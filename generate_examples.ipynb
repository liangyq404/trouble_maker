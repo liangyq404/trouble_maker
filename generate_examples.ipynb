{
 "cells": [
  {
   "cell_type": "code",
   "execution_count": 1,
   "id": "f1f761ef",
   "metadata": {},
   "outputs": [
    {
     "name": "stdout",
     "output_type": "stream",
     "text": [
      "Requirement already satisfied: nltk in /opt/anaconda3/lib/python3.9/site-packages (3.6.5)\n",
      "Requirement already satisfied: click in /opt/anaconda3/lib/python3.9/site-packages (from nltk) (8.0.3)\n",
      "Requirement already satisfied: joblib in /opt/anaconda3/lib/python3.9/site-packages (from nltk) (1.1.0)\n",
      "Requirement already satisfied: regex>=2021.8.3 in /opt/anaconda3/lib/python3.9/site-packages (from nltk) (2021.8.3)\n",
      "Requirement already satisfied: tqdm in /opt/anaconda3/lib/python3.9/site-packages (from nltk) (4.62.3)\n",
      "Requirement already satisfied: spacy in /opt/anaconda3/lib/python3.9/site-packages (3.2.1)\n",
      "Requirement already satisfied: requests<3.0.0,>=2.13.0 in /opt/anaconda3/lib/python3.9/site-packages (from spacy) (2.26.0)\n",
      "Requirement already satisfied: srsly<3.0.0,>=2.4.1 in /opt/anaconda3/lib/python3.9/site-packages (from spacy) (2.4.2)\n",
      "Requirement already satisfied: pydantic!=1.8,!=1.8.1,<1.9.0,>=1.7.4 in /opt/anaconda3/lib/python3.9/site-packages (from spacy) (1.8.2)\n",
      "Requirement already satisfied: tqdm<5.0.0,>=4.38.0 in /opt/anaconda3/lib/python3.9/site-packages (from spacy) (4.62.3)\n",
      "Requirement already satisfied: packaging>=20.0 in /opt/anaconda3/lib/python3.9/site-packages (from spacy) (21.0)\n",
      "Requirement already satisfied: setuptools in /opt/anaconda3/lib/python3.9/site-packages (from spacy) (58.0.4)\n",
      "Requirement already satisfied: blis<0.8.0,>=0.4.0 in /opt/anaconda3/lib/python3.9/site-packages (from spacy) (0.7.5)\n",
      "Requirement already satisfied: wasabi<1.1.0,>=0.8.1 in /opt/anaconda3/lib/python3.9/site-packages (from spacy) (0.9.0)\n",
      "Requirement already satisfied: spacy-legacy<3.1.0,>=3.0.8 in /opt/anaconda3/lib/python3.9/site-packages (from spacy) (3.0.8)\n",
      "Requirement already satisfied: cymem<2.1.0,>=2.0.2 in /opt/anaconda3/lib/python3.9/site-packages (from spacy) (2.0.6)\n",
      "Requirement already satisfied: thinc<8.1.0,>=8.0.12 in /opt/anaconda3/lib/python3.9/site-packages (from spacy) (8.0.13)\n",
      "Requirement already satisfied: spacy-loggers<2.0.0,>=1.0.0 in /opt/anaconda3/lib/python3.9/site-packages (from spacy) (1.0.1)\n",
      "Requirement already satisfied: langcodes<4.0.0,>=3.2.0 in /opt/anaconda3/lib/python3.9/site-packages (from spacy) (3.3.0)\n",
      "Requirement already satisfied: jinja2 in /opt/anaconda3/lib/python3.9/site-packages (from spacy) (2.11.3)\n",
      "Requirement already satisfied: catalogue<2.1.0,>=2.0.6 in /opt/anaconda3/lib/python3.9/site-packages (from spacy) (2.0.6)\n",
      "Requirement already satisfied: preshed<3.1.0,>=3.0.2 in /opt/anaconda3/lib/python3.9/site-packages (from spacy) (3.0.6)\n",
      "Requirement already satisfied: numpy>=1.15.0 in /opt/anaconda3/lib/python3.9/site-packages (from spacy) (1.20.3)\n",
      "Requirement already satisfied: murmurhash<1.1.0,>=0.28.0 in /opt/anaconda3/lib/python3.9/site-packages (from spacy) (1.0.6)\n",
      "Requirement already satisfied: typer<0.5.0,>=0.3.0 in /opt/anaconda3/lib/python3.9/site-packages (from spacy) (0.4.0)\n",
      "Requirement already satisfied: pathy>=0.3.5 in /opt/anaconda3/lib/python3.9/site-packages (from spacy) (0.6.1)\n",
      "Requirement already satisfied: pyparsing>=2.0.2 in /opt/anaconda3/lib/python3.9/site-packages (from packaging>=20.0->spacy) (3.0.4)\n",
      "Requirement already satisfied: smart-open<6.0.0,>=5.0.0 in /opt/anaconda3/lib/python3.9/site-packages (from pathy>=0.3.5->spacy) (5.2.1)\n",
      "Requirement already satisfied: typing-extensions>=3.7.4.3 in /opt/anaconda3/lib/python3.9/site-packages (from pydantic!=1.8,!=1.8.1,<1.9.0,>=1.7.4->spacy) (3.10.0.2)\n",
      "Requirement already satisfied: urllib3<1.27,>=1.21.1 in /opt/anaconda3/lib/python3.9/site-packages (from requests<3.0.0,>=2.13.0->spacy) (1.26.7)\n",
      "Requirement already satisfied: idna<4,>=2.5 in /opt/anaconda3/lib/python3.9/site-packages (from requests<3.0.0,>=2.13.0->spacy) (3.2)\n",
      "Requirement already satisfied: certifi>=2017.4.17 in /opt/anaconda3/lib/python3.9/site-packages (from requests<3.0.0,>=2.13.0->spacy) (2021.10.8)\n",
      "Requirement already satisfied: charset-normalizer~=2.0.0 in /opt/anaconda3/lib/python3.9/site-packages (from requests<3.0.0,>=2.13.0->spacy) (2.0.4)\n",
      "Requirement already satisfied: click<9.0.0,>=7.1.1 in /opt/anaconda3/lib/python3.9/site-packages (from typer<0.5.0,>=0.3.0->spacy) (8.0.3)\n",
      "Requirement already satisfied: MarkupSafe>=0.23 in /opt/anaconda3/lib/python3.9/site-packages (from jinja2->spacy) (1.1.1)\n",
      "Requirement already satisfied: markovify in /opt/anaconda3/lib/python3.9/site-packages (0.9.3)\n",
      "Requirement already satisfied: unidecode in /opt/anaconda3/lib/python3.9/site-packages (from markovify) (1.2.0)\n",
      "\u001b[38;5;3m⚠ As of spaCy v3.0, shortcuts like 'en' are deprecated. Please use the\n",
      "full pipeline package name 'en_core_web_sm' instead.\u001b[0m\n",
      "Collecting en-core-web-sm==3.2.0\n",
      "  Downloading https://github.com/explosion/spacy-models/releases/download/en_core_web_sm-3.2.0/en_core_web_sm-3.2.0-py3-none-any.whl (13.9 MB)\n",
      "\u001b[K     |████████████████████████████████| 13.9 MB 3.9 MB/s eta 0:00:01\n",
      "\u001b[?25hRequirement already satisfied: spacy<3.3.0,>=3.2.0 in /opt/anaconda3/lib/python3.9/site-packages (from en-core-web-sm==3.2.0) (3.2.1)\n",
      "Requirement already satisfied: spacy-loggers<2.0.0,>=1.0.0 in /opt/anaconda3/lib/python3.9/site-packages (from spacy<3.3.0,>=3.2.0->en-core-web-sm==3.2.0) (1.0.1)\n",
      "Requirement already satisfied: spacy-legacy<3.1.0,>=3.0.8 in /opt/anaconda3/lib/python3.9/site-packages (from spacy<3.3.0,>=3.2.0->en-core-web-sm==3.2.0) (3.0.8)\n",
      "Requirement already satisfied: thinc<8.1.0,>=8.0.12 in /opt/anaconda3/lib/python3.9/site-packages (from spacy<3.3.0,>=3.2.0->en-core-web-sm==3.2.0) (8.0.13)\n",
      "Requirement already satisfied: pathy>=0.3.5 in /opt/anaconda3/lib/python3.9/site-packages (from spacy<3.3.0,>=3.2.0->en-core-web-sm==3.2.0) (0.6.1)\n",
      "Requirement already satisfied: requests<3.0.0,>=2.13.0 in /opt/anaconda3/lib/python3.9/site-packages (from spacy<3.3.0,>=3.2.0->en-core-web-sm==3.2.0) (2.26.0)\n",
      "Requirement already satisfied: numpy>=1.15.0 in /opt/anaconda3/lib/python3.9/site-packages (from spacy<3.3.0,>=3.2.0->en-core-web-sm==3.2.0) (1.20.3)\n",
      "Requirement already satisfied: tqdm<5.0.0,>=4.38.0 in /opt/anaconda3/lib/python3.9/site-packages (from spacy<3.3.0,>=3.2.0->en-core-web-sm==3.2.0) (4.62.3)\n",
      "Requirement already satisfied: murmurhash<1.1.0,>=0.28.0 in /opt/anaconda3/lib/python3.9/site-packages (from spacy<3.3.0,>=3.2.0->en-core-web-sm==3.2.0) (1.0.6)\n",
      "Requirement already satisfied: setuptools in /opt/anaconda3/lib/python3.9/site-packages (from spacy<3.3.0,>=3.2.0->en-core-web-sm==3.2.0) (58.0.4)\n",
      "Requirement already satisfied: typer<0.5.0,>=0.3.0 in /opt/anaconda3/lib/python3.9/site-packages (from spacy<3.3.0,>=3.2.0->en-core-web-sm==3.2.0) (0.4.0)\n",
      "Requirement already satisfied: packaging>=20.0 in /opt/anaconda3/lib/python3.9/site-packages (from spacy<3.3.0,>=3.2.0->en-core-web-sm==3.2.0) (21.0)\n",
      "Requirement already satisfied: catalogue<2.1.0,>=2.0.6 in /opt/anaconda3/lib/python3.9/site-packages (from spacy<3.3.0,>=3.2.0->en-core-web-sm==3.2.0) (2.0.6)\n",
      "Requirement already satisfied: jinja2 in /opt/anaconda3/lib/python3.9/site-packages (from spacy<3.3.0,>=3.2.0->en-core-web-sm==3.2.0) (2.11.3)\n",
      "Requirement already satisfied: srsly<3.0.0,>=2.4.1 in /opt/anaconda3/lib/python3.9/site-packages (from spacy<3.3.0,>=3.2.0->en-core-web-sm==3.2.0) (2.4.2)\n",
      "Requirement already satisfied: blis<0.8.0,>=0.4.0 in /opt/anaconda3/lib/python3.9/site-packages (from spacy<3.3.0,>=3.2.0->en-core-web-sm==3.2.0) (0.7.5)\n",
      "Requirement already satisfied: langcodes<4.0.0,>=3.2.0 in /opt/anaconda3/lib/python3.9/site-packages (from spacy<3.3.0,>=3.2.0->en-core-web-sm==3.2.0) (3.3.0)\n",
      "Requirement already satisfied: wasabi<1.1.0,>=0.8.1 in /opt/anaconda3/lib/python3.9/site-packages (from spacy<3.3.0,>=3.2.0->en-core-web-sm==3.2.0) (0.9.0)\n",
      "Requirement already satisfied: preshed<3.1.0,>=3.0.2 in /opt/anaconda3/lib/python3.9/site-packages (from spacy<3.3.0,>=3.2.0->en-core-web-sm==3.2.0) (3.0.6)\n",
      "Requirement already satisfied: pydantic!=1.8,!=1.8.1,<1.9.0,>=1.7.4 in /opt/anaconda3/lib/python3.9/site-packages (from spacy<3.3.0,>=3.2.0->en-core-web-sm==3.2.0) (1.8.2)\n",
      "Requirement already satisfied: cymem<2.1.0,>=2.0.2 in /opt/anaconda3/lib/python3.9/site-packages (from spacy<3.3.0,>=3.2.0->en-core-web-sm==3.2.0) (2.0.6)\n",
      "Requirement already satisfied: pyparsing>=2.0.2 in /opt/anaconda3/lib/python3.9/site-packages (from packaging>=20.0->spacy<3.3.0,>=3.2.0->en-core-web-sm==3.2.0) (3.0.4)\n",
      "Requirement already satisfied: smart-open<6.0.0,>=5.0.0 in /opt/anaconda3/lib/python3.9/site-packages (from pathy>=0.3.5->spacy<3.3.0,>=3.2.0->en-core-web-sm==3.2.0) (5.2.1)\n",
      "Requirement already satisfied: typing-extensions>=3.7.4.3 in /opt/anaconda3/lib/python3.9/site-packages (from pydantic!=1.8,!=1.8.1,<1.9.0,>=1.7.4->spacy<3.3.0,>=3.2.0->en-core-web-sm==3.2.0) (3.10.0.2)\n"
     ]
    },
    {
     "name": "stdout",
     "output_type": "stream",
     "text": [
      "Requirement already satisfied: charset-normalizer~=2.0.0 in /opt/anaconda3/lib/python3.9/site-packages (from requests<3.0.0,>=2.13.0->spacy<3.3.0,>=3.2.0->en-core-web-sm==3.2.0) (2.0.4)\n",
      "Requirement already satisfied: urllib3<1.27,>=1.21.1 in /opt/anaconda3/lib/python3.9/site-packages (from requests<3.0.0,>=2.13.0->spacy<3.3.0,>=3.2.0->en-core-web-sm==3.2.0) (1.26.7)\n",
      "Requirement already satisfied: certifi>=2017.4.17 in /opt/anaconda3/lib/python3.9/site-packages (from requests<3.0.0,>=2.13.0->spacy<3.3.0,>=3.2.0->en-core-web-sm==3.2.0) (2021.10.8)\n",
      "Requirement already satisfied: idna<4,>=2.5 in /opt/anaconda3/lib/python3.9/site-packages (from requests<3.0.0,>=2.13.0->spacy<3.3.0,>=3.2.0->en-core-web-sm==3.2.0) (3.2)\n",
      "Requirement already satisfied: click<9.0.0,>=7.1.1 in /opt/anaconda3/lib/python3.9/site-packages (from typer<0.5.0,>=0.3.0->spacy<3.3.0,>=3.2.0->en-core-web-sm==3.2.0) (8.0.3)\n",
      "Requirement already satisfied: MarkupSafe>=0.23 in /opt/anaconda3/lib/python3.9/site-packages (from jinja2->spacy<3.3.0,>=3.2.0->en-core-web-sm==3.2.0) (1.1.1)\n",
      "\u001b[38;5;2m✔ Download and installation successful\u001b[0m\n",
      "You can now load the package via spacy.load('en_core_web_sm')\n",
      "Requirement already satisfied: serial in /opt/anaconda3/lib/python3.9/site-packages (0.0.97)\n",
      "Requirement already satisfied: iso8601>=0.1.12 in /opt/anaconda3/lib/python3.9/site-packages (from serial) (1.0.2)\n",
      "Requirement already satisfied: pyyaml>=3.13 in /opt/anaconda3/lib/python3.9/site-packages (from serial) (6.0)\n",
      "Requirement already satisfied: future>=0.17.1 in /opt/anaconda3/lib/python3.9/site-packages (from serial) (0.18.2)\n",
      "Requirement already satisfied: numpy in /opt/anaconda3/lib/python3.9/site-packages (1.20.3)\n",
      "Requirement already satisfied: pyserial in /opt/anaconda3/lib/python3.9/site-packages (3.5)\n"
     ]
    }
   ],
   "source": [
    "# Install all the libraries \n",
    "# for text generation\n",
    "!pip install nltk\n",
    "!pip install spacy\n",
    "!pip install markovify\n",
    "!python -m spacy download en \n",
    "# for arduino serial communication\n",
    "!pip install serial\n",
    "!pip install numpy\n",
    "!pip install pyserial"
   ]
  },
  {
   "cell_type": "code",
   "execution_count": 2,
   "id": "7b1f0662",
   "metadata": {},
   "outputs": [],
   "source": [
    "#import al the libraries \n",
    "# for text generation\n",
    "import spacy\n",
    "import re\n",
    "import markovify\n",
    "import warnings\n",
    "warnings.filterwarnings('ignore')\n",
    "\n",
    "# for serial communication\n",
    "import serial;\n",
    "import numpy as np;\n",
    "import time;\n",
    "import sys;"
   ]
  },
  {
   "cell_type": "code",
   "execution_count": 50,
   "id": "9913b1db",
   "metadata": {},
   "outputs": [],
   "source": [
    "# load the input files\n",
    "file = open(\"dare.txt\",\"r\")\n",
    "dare = file.read()\n",
    "\n",
    "file = open(\"inst.txt\", \"r\")\n",
    "inst = file.read()\n",
    "\n",
    "file = open(\"drink.txt\", \"r\")\n",
    "drink = file.read()\n",
    "\n",
    "file = open(\"manner.txt\", \"r\")\n",
    "manner = file.read()\n",
    "\n",
    "file = open(\"mime.txt\", \"r\")\n",
    "mime = file.read()\n",
    "\n",
    "file = open(\"add.txt\", \"r\")\n",
    "add = file.read()\n",
    "\n",
    "file = open(\"truth.txt\", \"r\")\n",
    "truth = file.read()\n",
    "\n",
    "file = open(\"keep.txt\", \"r\")\n",
    "keep = file.read()\n",
    "\n",
    "file = open(\"meditation.txt\", \"r\")\n",
    "medi = file.read()\n",
    "\n",
    "#to test if the file is successfully loaded\n",
    "#print first hundred characters\n",
    "# print('\\nRaw:\\n', inst[:100])"
   ]
  },
  {
   "cell_type": "code",
   "execution_count": 51,
   "id": "d6ed673f",
   "metadata": {},
   "outputs": [],
   "source": [
    "#utility function for text cleaning\n",
    "# clean the dots and spaces\n",
    "def text_cleaner(text):\n",
    "  text = re.sub(r'--', ' ', text)\n",
    "  text = re.sub('[\\[]*[\\]]', '', text)\n",
    "  text = re.sub(r'(\\b|\\s+\\-?|^\\-?)(\\d+|\\d*\\.\\d+)\\b','', text)\n",
    "  text = re.sub('[()]', '', text)\n",
    "  text = re.sub(r'[!]', '', text)\n",
    "  text = ' '.join(text.split())\n",
    "#   text = re.sub('[.]', '', text)\n",
    "#   text = re.sub(r'Chapter \\d+', '', text)\n",
    "  return text"
   ]
  },
  {
   "cell_type": "code",
   "execution_count": 52,
   "id": "d320eb1b",
   "metadata": {},
   "outputs": [
    {
     "name": "stdout",
     "output_type": "stream",
     "text": [
      "With each breath you take, let your lungs be filled with that warm golden light. And now let your mind move to your hands. Feel the warm golden light fill each finger. Feel it fill the palm of each hand. Let the golden light begin to move into your wrists and on up your forearms. Feel those muscles expand with the light. Let your elbows relax. Let the light move into your upper arms and shoulders. Let your shoulder blades relax and ease their way into the mat. Let the light enter your neck. Feel your neck and throat begin to relax. Swallow gently and feel your throat open. Separate your lips slightly and then close them. Let your tongue drop into a relaxed position. Feel the warm golden light as it fills your entire head and face. Let your ears relax. Let your eyes relax. Allow that little space between your eyebrows to relax. Let your forehead relax. Let the top of your head relax. Begin to focus on your Root chakra at the base of your spine and visualize a vibrant red glowing ball of light, or if you prefer, imagine a red crystal, flower or fruit. This chakra brings health, security and dynamic presence. Feel it empower you as it connects you to earth energies. You’re radiating power and vitality. Breathe the color red in and out and see yourself living your healthy ideal, feeling happy and grateful for radiant health and boundless energy, weighing your perfect weight with a strong, balanced immune system. Feel how good it feels to have all the energy you need to do all the things you love to do. You feel so grateful for this magnificent body that moves so freely and well and looks so good. Feel yourself healthier than you’ve ever felt before. Now let this vibrant red chakra continue to glow and spin as you move up to your Sacral chakra, located between your root chakra and your navel. Here, see a radiant glowing orange ball of light. This chakra holds the energy of money, power, sexuality and creativity. Breathe in a rich beautiful orange color and feel it bring the gifts of being happy, enthusiastic, sexually fulfilled, prosperous and abundant. See yourself experiencing true wealth on every level, being grateful for the abundance in your life now, and imagine riches flowing to you in expected and unexpected ways. Let this chakra continue to glow and spin as you move up to your Solar chakra located a few inches above your navel. Here, see a beautiful sunny yellow glowing ball of light, or visualize a lemon or a sunflower. As you breathe in a vibrant yellow color, feel it expand your joy, self-worth and personal power. See yourself successful and deeply fulfilled in your dream job. Feel the glowing yellow chakra empower you as you move up to your Heart chakra at the centre of your chest, and visualize a beautiful emerald green or a soft pink glowing ball of light. This is the chakra of love for yourself and others. Let it glow, bringing gifts of compassion, self-acceptance, and the ability to love deeply. Breathe in pink or green and let these feelings expand, seeing yourself living in perfect harmony with everyone in your life. Let it fill you with gratitude for this opportunity to live in this wonderful world. Feel your heart swell with compassion and forgiveness for yourself and others. Now let this chakra continue to glow and spin and gently move up to your Throat chakra located at your throat, visualizing a beautiful blue color. This chakra enables you to communicate with truth and wisdom and express yourself with confidence. Breathing blue in and out, see yourself happily expressing your uniqueness through a creative outlet you enjoy such as singing, dancing, playing a sport, anything you do for fun. Let this chakra continue to glow and spin and gently move up to your 3rd eye chakra located at the centre of your forehead. See a beautiful deep purpley blue indigo colored glowing ball of light. As it glows it expands your imagination, psychic abilities, inner knowing and wisdom. Feel fully supported by the Universe as you pursue your personal growth goals, happily following your highest path. See yourself living your ideal in the personal growth area of your life, whatever that means to you. Now let this indigo light continue to glow and spin as you gently move up to your Crown chakra at the top of your head. This is the chakra of spirituality, thought, and service to others. Breathe in violet or white, gold or silver and let this chakra glow as it brings gifts of self-knowledge, spiritual connection and bliss. See yourself living in wisdom and awareness, surrendering into divine love, joyfully contributing to the world in the way most meaningful for you. Let this chakra glow and spin as you bring your awareness back to the golden glowing light above your head. Watch as it transforms into a golden Pot. Now breathe it in through your Crown chakra to your 3ed eye chakra, Throat chakra, Heart chakra, Solar and Sacral chakra, right down to your root chakra. On exhalation breathe it back up the way it came. As it passes through each chakra see the pot filling with gold coins representing the gifts and attributes of each one. Now visualize this beautiful Pot of Gold above your head once again overflowing with sparkling gold coins. This is your unique pot of gold, filled with everything you could ever want. Let them rain down on you. Spend as long as you like in this peaceful state visualizing all your dreams coming true as you finally lay claim to your pot of gold. Find a comfortable position, either lying down or sitting in a straight back chair, whichever feels best to you today. Take a few nice deep breaths, bringing your awareness fully to the present moment. Let go of any busy thoughts preventing you from tapping into your inner essence. Now I’ll begin the guided meditation, and as I mention each body part I invite you to bring your awareness to it and relax it as deeply as you can. As you scan your body, if you encounter tension anywhere simply use the power of your mind to melt it away, as easily as warm water melts ice. Starting at the top of your head, relax your scalp completely. Feel the skin of your forehead and temples relax. Allow your eye muscles to release, your jaw to soften, and let your ears, nose and chin, teeth tongue and gums relax. Now, just let this peaceful feeling flow down your neck. Feel it sooth your throat and dissolve any tension on contact as it glides down to your shoulders, upper arms, forearms, wrists and hands. Let this peaceful sensation of relaxation begin to fill your torso. Feel it relax your chest, giving your heart more room to grow more expansive; more loving, giving and forgiving. Soften your belly muscles and let this relaxation penetrate even deeper, releasing any tension from your internal organs. Now let it wrap around you, enveloping you in love and peace as it softens all the back muscles all the way down to the base of the your spine. Continue to breathe in deep, fluid breaths. Breathe in health, happiness and harmony, breathe out any tension, toxins, worries or disease, allowing anything that does not serve you to leave your body like a dark cloud. Send this peaceful feeling into your hips and buttocks. Let it glide down your thighs, relaxing your legs completely as it flows down to your knees, calves, ankles and feet. Allow any remaining tension from anywhere in your body to flow out your toes, leaving your whole body feeling very comfortable, peaceful and relaxed. Continue to breathe deep relaxing breaths, feeling your belly rise on the inhale and fall on the exhale. Notice how the air feels cooler as you breathe in, and warmer as you breathe out. Now, imagine a golden glowing ball of light about a foot above the crown of your head. On an inhalation, breathe that light in through the top of your head through the centre line of your body, right down to the tailbone. On the exhalation, breathe that light back up the way it came and out the top of your head. We’ll do this three times, to begin to balance and align your chakras. Focus on the sensations that the breathing offers. The way the air feels cool as you inhale and warm as you exhale, how your stomach expands as it draws in oxygen, the energy that this oxygen provides your body. If you find your mind wandering at any time away from your focus do not worry, just allow yourself to refocus on your breathing. When you feel ready begin to shift your focus from your breathing to your body in general. If you feel any aches, pains or stiffness loosen these parts of your body until you feel as comfortable and natural as possible. Now it is time to start focusing on individual parts of the body, beginning with the feet. As you focus on specific parts of your body you may find that they begin to feel warmer and more relaxed. Imagine that your feet are the roots of your body, drawing awareness up from the ground up into the rest of the body. Allow this awareness to spread up through your feet to your ankles and lower legs. Enjoy the relaxed warm feeling. Experience how your lower legs seem to feel much heavier and looser than normal. Now allow this awareness to spread to your knee joints. If you have problems with your knees or any other part of your body you may use this time meditation to visualize your body healing itself as you go from point to point. Body Awareness Meditation Slowly let your awareness spread further up to the upper legs, hips, buttock and genitals. Many people find that they hold much of their tension in these areas so spend a little extra time allowing these parts of your body to relax and loosen, letting the energy and awareness course through. When it feels right draw this energy and awareness to the base of your spine. It is important to take your time or you may find your muscles will tense up a little. Focus this awareness up through the curvature of your spine to the tip of the spine which is about an inch below the knuckle-like bump in the back of your skull. Relax and ease the muscles around this point, this will include loosening your jaw if you haven’t already done so. Once you have a feel for this top point of your spine keep it in your mind whilst also focusing on the base of your spine. Imagine a warm ball of light at both the top and bottom of your spine. The light at the base of your spine is slowly drawn down into the ground below you like a loving anchor. The light at the top of your spine is slowly moving up towards the heavens. You will find that the muscles that hold your spine begin to loosen and each vertebra of your spine create a little extra space in between each other. When your spine is fully relaxed shift your focus to you shoulders. You may find that you need to now readjust the position of your shoulders to remain comfortable now that your spine is so well relaxed. Experiment with moving them gently into different positions until they feel in synch with the rest of your posture. Draw this awareness down your arms and into the fingers. Notice the very slight movements they are making all on their own. Move your awareness back up to your throat and release any tension that you may be holding there before moving further up to your face. Feel the warmth of your awareness relax every facial muscle. Notice how sensitive your face is, how the air feels against it. Finally shift your awareness to your brain. Become aware of just how amazing and powerful your brain is. Your brain is capable of regulating your entire body. Your brain houses your mind which allows you to think, feel and create. When you feel ready open your eyes and return to waking consciousness. Feel the breath as it enters with a cool feeling and then warming as it gently travels down into the lungs..... Fill the lungs with a deep inhale, bringing in energy, vitality and prana, the life force..... As you exhale, feel the body releasing toxins, stress and any negativity that has accumulated..... Stay with this breath, focusing on the feeling of deep peace for ten deep inhalations and exhalations.... Feel the energy that is in the body.... Become aware of the warmth and tingling of every cell..... Feel the energy that is in the extended environment, in every part of nature and in every living thing..... Bring all those energies together and feel them as one..... Visualize all of that energy shining brightly, as the sun..... Bring the shining glow of bright energy over the crown of the head..... Feel it starting to travel down into your body from the top of your head, slowly going down into your face and neck, traveling down into the shoulders, all the way down into the arms, down to the fingers..... Feel the healing energy and light going down into your chest, all the way down to your hips..... Feel it continue traveling down your legs all the way down to your toes..... Your whole body is now filled with divine healing light and energy..... Allow that healing energy to completely fill any physical area that needs healing energy..... Feel it warming, healing and expanding through the area...... Allow the healing light to bring peace and healing to any emotional issues or traumas..... Bring your awareness to any intentions or desires that you may have..... Hold the thoughts of those intentions or desires as you allow the healing energy to bring your deepest desires to life and your intentions into reality..... Feel your connection to divine energy and light, and know that all is ONE. Stay with this deep, relaxing, peaceful feeling of bliss. Take deep long slow breaths, Relax the whole of your face, your eyes, the space under your eyes, your cheeks and jaw, Allow your tongue to rest gently in your mouth, Relax your neck, shoulders, the whole of your arms, wrists and hands, Your chest and torso relax,Your waist, hips and pelvis, Your buttocks and thighs sink deeper into the mat, Your legs, ankles and feet feel heavy, The top of your back, spine and bottom of back let it all go into relaxation You find yourself walking on the bank of a river, The water is trickling down stream, The sun set high in the sky reflecting on the clear gentle flow of the water, Up ahead you catch a glimpse of movement, a flash of the most beautiful vibrant colour, As you walk slowly towards this amazing sight you suddenly see what has attracted your attention, It is so still perched on a twig sticking out of the water, Your breathing slows as you stay quiet so as not to disturb this wonderful moment, The kingfisher looks up at you, shining in the warm sun his wet feathers of bright blue and orange glisten like crystals, You feel a leap of joy in your heart to have found such a wonderful sight, You kneel down in the grass and decide to sit and watch the kingfisher, You feel a sense of calm, The kingfisher represents peace and prosperity and you are so grateful for this moment, He stares into the water ready to dive in, and with a flash of blue he is gone, You wish him fair well and return to your feet and continue on your way keeping the image of the kingfisher in your mind you hope you will see him again one day, The air is warm around you and against your skin, the sounds of birds bring your attention to the sky, and for a moment you stop and admire the swifts speeding through the air, busy in their day, You know that summer has arrived and it feels wonderful. You drop your gaze and walk on further, surrounded by the sights and sounds of nature and you are so grateful and happy. Just up ahead is a wooden bench, as you reach the bench you sit down, the wood is warm from the heat of the days sun, you lean back to feel its warmth around you. You feel so safe and rested here, you close your eyes, listening to the gentle flow of the water and smell the meadows surrounding you. It is time to return now, you rise slowly up from the bench and begin to walk back the way you came. The swifts overhead twittering their high pitched song, You spot the twig sticking out of the water, and just for a moment you stop in anticipation of seeing the kingfisher again, You smile at having been so lucky to have seen him and know how rare it is to catch sight of a kingfisher, You walk on keeping the image in your mind to remember this peaceful moment. Begin to wiggle your toes and fingers, slowly stretch your arms and legs, and when you feel ready open your eyes. Make yourself comfortable either sitting or lying down. Move around as much as you want to until you feel settled. During meditation don’t be afraid of moving, or coughing, tummies rumbling etc, it’s all natural. Now become aware of your breathing. Don’t try to force any sort of rhythm, just let it become slower and natural, at a pace which is right for you. Quietly scan down your body beginning with the crown of your head, take a deep breath and release any tension on your out breath. Let this feeling of relaxation soften the muscles around your face, temples and jaw. Don’t clench your teeth and let your tongue rest gently on the roof of your mouth. Take another deep breath and become aware of any tension in your neck and shoulders. Breathe in and as you exhale, let your shoulders drop becoming soft and relaxed. Let this feeling of relaxation spread down your arms and into your fingers, down your chest and abdomen, your back and legs right down to your toes. Breathe to your own rhythm and let your whole body become heavy, soft and relaxed. It's a summer day and I want you to imagine that you are sat down on a mountain top at dusk. It is very safe and you have nothing to do but relax. As you look around you, you can see the sun finally disappearing on the horizon as darkness begins to descend. You lie down on the soft blanket you have brought with you and rest your head comfortably on your soft pillow looking up at the night sky. You feel completely safe and relaxed. You see a full moon shining down on you and stars begin to appear twinkling in the night sky. As you watch, the sky becomes darker, the moon and stars become brighter. As you settle into watching, you become aware of a faint green ribbon of light in the distance, like a wisp of smoke, as it gets closer to you, it becomes more solid in colour and a brighter green. The green light gently rests above you now sending its healing through the physical body. Let that green energy flow over the cells, down into the centre of each cell within your body leaving them energised and cleansed. Now you become aware of a faint pink ribbon of light in the distance, like a wisp of smoke, as it gets closer to you, it becomes more solid in colour and a brighter pink. The pink light gently rests above you now sending its healing through the emotional body. Let that pink energy flow over each and every cell, down into the centre of each cell within your body leaving a beautiful layer of pink over the green. Now you can see a faint blue ribbon of light in the distance, like a wisp of smoke, as it gets closer to you, it becomes more solid in colour and a brighter blue. The blue light gently rests above you now sending its healing through the mental body. Let that blue energy flow over the cells, down into the centre of each cell within your body leaving a beautiful layer of blue over the green and pink. Now you become aware of a faint purple ribbon of light in the distance, like a wisp of smoke drifting lazily towards you. As it gets closer to you, it becomes more solid in colour and a brighter purple. The purple light gently rests above you now sending its healing through the spiritual body. Let that purple energy fill every cell, down deep into the Master blueprint of your DNA, leaving a layer of purple and raising the vibrations of the green physical, the pink emotional and the blue mental into the more perfect vibrations of the violet ray. The green, pink, blue and purple lights have now merged into a beautiful violet healing light within your body. Feel it moving within you and coating the cells with its wonderful healing energy. Stay with this feeling for a few moments. The healing lights have been absorbed gently into your body and it’s now time to leave the mountain and become aware of your own surroundings. You become aware of your body as you slowly become more awake feeling energised and refreshed. Take your time to come around fully, wriggle your fingers and toes and have a good stretch. You can return to this mountain anytime you feel the need for healing. Close your eyes. Notice how good it feels to close your heavy eyelids after a long day. When you are settled, start to take deep breaths in through your nose for a count of four, and out through your mouth for a count of four. With every inhale and exhale, you are getting closer and closer to sleep. With every breath, the stress of your day can melt away, and your body is slowing down and getting ready for bed. All you need to think about is this current moment. If your mind drifts to thinking about today’s events or tomorrow’s to-do list, notice that, but do not judge it. Gently bring yourself back to your breath. Every breath brings you closer to the sweet relaxation of sleep. When you’ve finished with this meditation, you will be able to peacefully drift to bed. Close your eyes, and start to breathe. Take deep breaths in through your nose and out through your mouth. In for the count of four, and out for the count of four. With each inhale, imagine that you are breathing in confidence and power. With each exhale, imagine you are expelling all of your self-doubt. Say to yourself either out loud or in your head, “I am confident. I am sure of myself and my abilities.” Notice how nice it feels to take this time to work on yourself. Notice how you can feel more confident just by sitting up tall with your head high and saying these confidence affirmations to yourself. Keep breathing. If your mind starts to wander and you start to feel self-doubt creeping in, notice this, observe it, and do not judge it. Then, bring your attention back to your breath. Confidence is within you. Confidence is in reach. Open your eyes and take this feeling of confidence with you. Begin in a comfortable seated position. Feel grounded through your seat, and when you’re settled, close your eyes. This guided meditation script will help you feel more gratitude. Start to pay attention to your breath by taking mindful breaths in through your nose and out through your mouth. Breathe in for the count of four and out for the count of four. Start to think about how lucky you are. What are you grateful for? Take a moment to name at least three things you are grateful for. As you inhale, send extra gratitude to these things. If your mind starts to wander to other things, simply be an observer of your thoughts and do not judge them. Then, bring attention back to your breath and the things you’re grateful for. Keep breathing. All you need to do right now is breathe and drench yourself in gratitude. Notice how practicing mindfulness and gratitude can help you feel happier. Open your eyes and take this amazing feeling of gratitude with you throughout your day. Begin in a comfortable seated position. Close your eyes and start to mindfully pay attention to your breathing. This guided meditation script will help you achieve success and believe in yourself. Breathe in through your nose for the count of four, and out for the count of four. Keep breathing, feeling yourself get more and more relaxed with every breath you take. As you inhale, imagine that you are breathing in success, confidence, and power. As you exhale, imagine that you are ridding yourself of all self-doubt and any roadblocks in the way of your progress. Think about an area of your life or a particular instance that you are looking to find success in. Visualize yourself experiencing this success. Where will you be? Who will you be with? What will it feel like? Visualize all of these details as you continue to breathe. If your mind wanders somewhere else, observe the thoughts, and bring your attention back to your breath and your visualization. Inhale confidence, exhale self-doubt. Open your eyes and take this feeling of confidence and success with you as you work to achieve your goals.. Take some time to place yourself in a comfortable position. Take a few deep breaths and let your chest rise and fall with each inhalation and exhalation. When you are ready, let your eyes drift closed.. As you continue to breathe slowly and deeply, let your attention rest gently on your breath. Feeling the movement as it enters and exits your body. Each time you exhale, let go of any tension. Relax your face, your shoulders, your belly, your legs.. On your next exhale, settle your attention to the area around your heart. Focus on the feelings of love, compassion, empathy, forgiveness.. With your attention on your heart center, bring to mind something or someone you are grateful for.. As you continue with your easy, relaxed breathing, perhaps you feel gratitude for being alive, or healthy.. Perhaps you are grateful for the abundance of nature that produces food to nourish your body, and beautiful scenery to nourish your soul.. Bring your attention to people who truly nourish you in your life and how they bless you with their presence.. Feel gratitude for your own life and the many gifts you have been blessed with.. Now bring your attention to how this gratitude feels in the area around your heart. With each inhale, let this feeling grow outwards. Expanding to fill your chest, your arms and hands, your legs and feet. With each inhale this feeling grows, filling you up.. And now, even as you return your attention to your breath, let your body remember the sensations of your gratitude.\n"
     ]
    }
   ],
   "source": [
    "#apply utility function to clean corpus \n",
    "dares = text_cleaner(dare)\n",
    "inst = text_cleaner(inst)\n",
    "manner = text_cleaner(manner)\n",
    "mime = text_cleaner(mime)\n",
    "add = text_cleaner(add)\n",
    "keep = text_cleaner(keep)\n",
    "drink = text_cleaner(drink)\n",
    "medi = text_cleaner(medi)\n",
    "\n",
    "truth = text_cleaner(truth)\n",
    "truth = re.sub(r'[0-9]+', '', truth)\n",
    "truth = re.sub('[.]', '', truth)\n",
    "print(medi)"
   ]
  },
  {
   "cell_type": "code",
   "execution_count": 53,
   "id": "e5ccf33a",
   "metadata": {},
   "outputs": [
    {
     "name": "stdout",
     "output_type": "stream",
     "text": [
      "Add Onion Powder. Add Garlic Powder. Add Black Pepper. Add Real Salt. Add Oregano Leaves. Add Rosemary Leaves. Add Basil Leaves. Add Thyme Leaves. Add Red Pepper Flakes. Add Ground Cayenne Pepper. Add Chili Powder. Add Ground Cumin. Add Ground Ginger. Add Ground Nutmeg. Add Ground Cloves. Add Ground Cinnamon. Add ketchup. Add hot sauce. Add chocolate. Pour soy sauce. Pour vinegar. Add a dollar coin.\n"
     ]
    }
   ],
   "source": [
    "#parse\n",
    "nlp = spacy.load('en_core_web_sm')\n",
    "\n",
    "dares_doc = nlp(dares)\n",
    "inst_doc = nlp(inst)\n",
    "add_doc = nlp(add)\n",
    "manner_doc = nlp(manner)\n",
    "drink_doc = nlp(drink)\n",
    "mime_doc = nlp(mime)\n",
    "truth_doc = nlp(truth)\n",
    "keep_doc = nlp(keep)\n",
    "medi_doc = nlp(medi)\n",
    "\n",
    "print (add_doc)"
   ]
  },
  {
   "cell_type": "code",
   "execution_count": 54,
   "id": "d8812efe",
   "metadata": {},
   "outputs": [
    {
     "name": "stdout",
     "output_type": "stream",
     "text": [
      "With each breath you take, let your lungs be filled with that warm golden light. And now let your mi\n"
     ]
    }
   ],
   "source": [
    "#join the sentences in the novel \n",
    "dares_sents = ' '.join([sent.text for sent in dares_doc.sents if len(sent.text) > 1])\n",
    "drink_sents = ' '.join([sent.text for sent in drink_doc.sents if len(sent.text) > 1]).strip('\\r\\n\\\\r\\\\n')\n",
    "inst_sents = ' '.join([sent.text for sent in inst_doc.sents if len(sent.text) > 1])\n",
    "manner_sents = ' '.join([sent.text for sent in manner_doc.sents if len(sent.text) > 1])\n",
    "mime_sents = ' '.join([sent.text for sent in mime_doc.sents if len(sent.text) > 1])\n",
    "tru_sents = ' '.join([sent.text for sent in truth_doc.sents if len(sent.text) > 1])\n",
    "add_sents = ' '.join([sent.text for sent in add_doc.sents if len(sent.text) > 1])\n",
    "keep_sents = ' '.join([sent.text for sent in keep_doc.sents if len(sent.text) > 1])\n",
    "medi_sents = ' '.join([sent.text for sent in medi_doc.sents if len(sent.text) > 1])\n",
    "\n",
    "print(medi_sents[:100])"
   ]
  },
  {
   "cell_type": "code",
   "execution_count": 55,
   "id": "d2dea06f",
   "metadata": {},
   "outputs": [
    {
     "name": "stdout",
     "output_type": "stream",
     "text": [
      "What’s the worst present you’ve ever given or gotten someone’s number?\n"
     ]
    }
   ],
   "source": [
    "gen_tru = markovify.Text(tru_sents, state_size = 3) \n",
    "result = gen_tru.make_sentence(tries = 1000)\n",
    "print(result)"
   ]
  },
  {
   "cell_type": "code",
   "execution_count": 56,
   "id": "6883916f",
   "metadata": {},
   "outputs": [],
   "source": [
    "gen_dares = markovify.Text(dares_sents, state_size = 5) \n",
    "gen_drink = markovify.Text(drink_sents, state_size = 3) \n",
    "gen_add = markovify.Text(add_sents, state_size = 3) \n",
    "gen_inst = markovify.Text(inst_sents, state_size = 3)\n",
    "gen_mime = markovify.Text(mime_sents, state_size = 3) \n",
    "gen_manner = markovify.Text(manner_sents, state_size = 3) \n",
    "gen_keep = markovify.Text(keep_sents, state_size = 3) \n",
    "gen_tru = markovify.Text(tru_sents, state_size = 3) \n",
    "gen_medi = markovify.Text(medi_sents, state_size = 3)\n",
    "\n",
    "gen_act = markovify.combine([gen_medi, gen_mime], [1, 1])\n",
    "    \n",
    "gen_darkdrinks = markovify.combine([gen_drink, gen_add], [0.1, 5 ])\n",
    "gen_anti = markovify.combine([gen_keep, gen_manner], [1, 1 ])\n",
    "gen_mimechallenge = markovify.combine([gen_anti, gen_medi], [0.3, 1])\n",
    "\n"
   ]
  },
  {
   "cell_type": "code",
   "execution_count": 57,
   "id": "46446eae",
   "metadata": {},
   "outputs": [
    {
     "name": "stdout",
     "output_type": "stream",
     "text": [
      "Add the Bombay Sapphire, Crème de Cassis and lime juice with ice, strain into a highball glass over two ice cubes.\n",
      "Place some ice cubes in a highball glass almost filled with ice cubes.\n",
      "Add dash of Angostura bitters.\n",
      "Mix powdered sugar and oz. carbonated water in a small saucepan.\n",
      "To get the layered effect, place a spoon atop the coffee and spices in water, leave in the water for minutes.\n",
      "Stir well and garnish with the orange slice and cherry.\n",
      "In a tall glass, dissolve or teaspoons of sugar in an ounce of the coffee rather than dispersing into it right away.\n",
      "Pour in order into a shot glas in that order.\n",
      "Shake ingredients with ice, strain into a whiskey sour glass.\n",
      "Pour all of the ingredients.\n"
     ]
    }
   ],
   "source": [
    "for i in range(10):\n",
    "    result = gen_darkdrinks.make_sentence(tries = 1000, max_chars=120)\n",
    "    print(result)"
   ]
  },
  {
   "cell_type": "code",
   "execution_count": 51,
   "id": "4da1fee8",
   "metadata": {},
   "outputs": [
    {
     "name": "stdout",
     "output_type": "stream",
     "text": [
      "['Do', 'pushups', 'until', 'it’s', 'your', 'go', 'again.']\n"
     ]
    }
   ],
   "source": [
    "#new dares\n",
    "\n",
    "list = []\n",
    "for i in range(10):\n",
    "    result = gen_dares.make_sentence(tries = 1000, max_chars=200)\n",
    "    result = result.split()\n",
    "    list.append(result)\n",
    "print(result)\n",
    "\n",
    "#     list.append(result)\n",
    "\n",
    "    \n",
    "# for i in range(10):\n",
    "#     print(list[i])"
   ]
  },
  {
   "cell_type": "code",
   "execution_count": 46,
   "id": "2fa08cac",
   "metadata": {},
   "outputs": [
    {
     "name": "stdout",
     "output_type": "stream",
     "text": [
      "Pour vodka into a highball glass filled with ice cubes, except soda water.\n",
      "Pour Vodka, Gin and lime cordial into glass, and top with cream; serve hot..\n",
      "Shake and strain into a large glass with ice and strain into a cocktail glass.\n"
     ]
    }
   ],
   "source": [
    "#darkdrinks\n",
    "\n",
    "list = []\n",
    "m=0\n",
    "\n",
    "# if the first generated sentence starts with these words, generate again\n",
    "wronglist = [\"Then\", \"After\", \"And\", \"When\", \"Cover\", \"Remove\", \"Return\", \"Shake\", \"Serve\", \"Gradually\", \"Before\", \"Turn\", \"Increase\", \"The\", \"Strain\"]\n",
    "\n",
    "# generate the first sentence, if this sentence starts with wronglist or contain not first, generate again\n",
    "while True: \n",
    "    resulta = gen_darkdrinks.make_sentence(tries = 1000, max_chars=200)\n",
    "    resulta = resulta.split()\n",
    "    if resulta[0] not in wronglist:\n",
    "        resulta = \" \".join(resulta)\n",
    "        list.append(resulta)\n",
    "        break\n",
    "\n",
    "# generate the rest 2 sentences\n",
    "for i in range(2):\n",
    "\n",
    "    resultb = gen_darkdrinks.make_sentence(tries = 1000, max_chars=150)\n",
    "#     resultb = \" \".join(resultb)\n",
    "    list.append(resultb)\n",
    "    \n",
    "    \n",
    "# print(list)\n",
    "for i in range(3):\n",
    "    print(list[i])\n",
    "\n",
    "    \n"
   ]
  },
  {
   "cell_type": "code",
   "execution_count": 48,
   "id": "f5231e89",
   "metadata": {
    "scrolled": true
   },
   "outputs": [
    {
     "name": "stdout",
     "output_type": "stream",
     "text": [
      "Feel it continue traveling down your legs all the way down to the ground one at a time, maintaining that squat position.\n",
      "On an inhalation, breathe that light back up the way it came.\n",
      "Let go of any tension.\n",
      "When you are settled, start to take deep breaths in through your Crown chakra at the base of your spine is slowly drawn down into the lungs.....\n",
      "In for the count of four and out for the count of four and out for the count of four.\n",
      "Move your awareness back up to your throat and dissolve any tension on your out breath.\n",
      "If the salt­cellar is for you alone, you may either use the tip of a clean knife to take some salt.\n",
      "Feel your neck and shoulders.\n",
      "All you need to think about how lucky you are.\n",
      "If you feel any aches, pains or stiffness loosen these parts of your body as you slowly become more awake feeling energised and refreshed.\n"
     ]
    }
   ],
   "source": [
    "#mimechallenge\n",
    "for i in range(10):\n",
    "    result = gen_mimechallenge.make_sentence(tries = 1000)\n",
    "    print(result)"
   ]
  },
  {
   "cell_type": "code",
   "execution_count": 47,
   "id": "c0dcb3aa",
   "metadata": {},
   "outputs": [
    {
     "name": "stdout",
     "output_type": "stream",
     "text": [
      "Lift your right leg straight.\n",
      "Slowly lower your hips down and bend your left leg, then bring your left elbow to your left knee, straightening your right leg.\n",
      "Walk or jump your feet to bring your right foot forward.\n",
      "Keeping your neck neutral, simultaneously extend your left arm and right leg, keeping your right leg up, maintaining the position of your body.\n",
      "Drop your knees down to the floor throughout.\n",
      "Engage your core, lift your legs and upper body off the floor, and your arms extended by your sides.\n",
      "Extend your right arm back.\n",
      "Don't butter the whole piece of bread without first offering it to others.\n",
      "Lift your right leg back to tabletop and your arm in front of the chair with your feet shoulder-width apart.\n",
      "Get into a hollow hold position: Lie on your back with your knees bent, feet flat on the floor, and hold them there.\n",
      "Get into a hollow hold position: Lie on your back and bring your right foot forward.\n",
      "Hold your knife in your right knee toward your chest.\n",
      "Step your feet back to the jackknife position and repeat.\n",
      "Get into a hollow hold position: Lie on your back and bring your right elbow to your right knee.\n",
      "Bring your leg back to the jackknife position and repeat.\n",
      "Slowly release back to the start position.\n",
      "Walk or jump your feet back to the starting position.\n",
      "Keeping your neck neutral, simultaneously extend your left leg and drop your right arm back.\n",
      "Extend your right leg straight.\n",
      "Stand in a lunge position with your left leg and drop your right arm and left leg.\n"
     ]
    }
   ],
   "source": [
    "#anti-human workout\n",
    "for i in range(20):\n",
    "    result = gen_anti.make_sentence(tries = 1000, max_chars=100)\n",
    "    print(result)"
   ]
  },
  {
   "cell_type": "code",
   "execution_count": 49,
   "id": "fbc55e90",
   "metadata": {},
   "outputs": [
    {
     "name": "stdout",
     "output_type": "stream",
     "text": [
      "What’s one thing you’d change about every person in this room in The Hunger Games?\n",
      "What’s the worst thing ever?\n",
      "What’s the most insane thing you’ve done on a plane?\n",
      "What’s a skill you wish you could change?\n",
      "What’s the cruelest thing you’ve ever said to a stranger?\n",
      "If I went through your cabinets, what’s the weirdest thing you’ve done in a movie theater?\n",
      "What’s the dumbest thing you’ve ever done at work?\n",
      "What’s the weirdest thing you’ve ever posted on social media?\n",
      "It’s totally illegal to seduce my teachers but if it were,… What is the biggest lie you have ever bought?\n",
      "What is the most stupid thing you’ve done on public transportation?\n",
      "What’s the dumbest thing you’ve ever said to someone else?\n",
      "Who here are you most self-conscious about?\n",
      "What’s the most embarrassing thing you’ve ever done or said to a romantic partner?\n",
      "What’s the pettiest thing you’ve ever lied about?\n",
      "What’s the most sinful thing you’ve done on public transportation?\n",
      "What’s the craziest thing you’ve ever said to someone else?\n",
      "What’s the most embarrassing thing you’ve ever done while inebriated Have you ever lied on your resume to get a job?\n",
      "What is the most stupid thing you’ve done to get out of a speeding ticket?\n",
      "It’s totally illegal to seduce my teachers but if it were,… What is the strangest thing you have ever bought?\n",
      "If so, read one of the other players has ever made?\n",
      "What’s the worst thing ever?\n",
      "What’s the cruelest thing you’ve ever said to someone else?\n",
      "What’s the worst advice you’ve ever given or gotten someone’s number?\n",
      "What’s the weirdest thing you’ve ever said about someone else?\n",
      "Name a band you only pretend to like What’s the last movie that made you cry?\n",
      "Would you volunteer as tribute for anyone in this room would be your one phone call if you were in jail?\n",
      "Would you volunteer as tribute for anyone in this room would you list as your emergency contact?\n",
      "What’s the dumbest thing you’ve ever said about someone else?\n",
      "Have you ever lied on your resume to get a crush or partner’s attention?\n",
      "Have you ever done it in one day?\n",
      "What’s the dumbest thing you’ve ever said to someone else?\n",
      "What was your first kiss?\n",
      "When was a time you were really angry?\n",
      "When was a time you were really angry?\n",
      "What’s one responsibility you wish you could change?\n",
      "What’s something stupid you’ve done that you still feel guilty about?\n",
      "If you had one week to live and you had to pick someone in this room, who would it be and why?\n",
      "What’s one thing you’d change about every person in this room in The Hunger Games?\n",
      "When was a time you were really angry?\n",
      "What was your first time?\n",
      "When was your first love?\n",
      "What’s the weirdest thing you’ve ever posted on social media?\n",
      "If you had to marry someone in this room in The Hunger Games?\n",
      "Have you ever lied on your resume to get a crush or partner’s attention?\n",
      "What’s the most insane thing you’ve done in a movie theater?\n",
      "What’s the weirdest thing you’ve done to get out of doing something?\n",
      "What’s the most embarrassing thing you’ve done to get out of doing something?\n",
      "Would you break up with your best friend, who would it be?\n",
      "What’s a skill you wish you didn’t have?\n",
      "If you could set anyone here up with your partner for $ million?\n",
      "What’s the meanest thing you’ve ever done in a bathroom?\n",
      "What’s the most embarrassing thing you’ve done on public transportation?\n",
      "What’s the weirdest thing you’ve ever lied about?\n",
      "Who was your first time?\n",
      "What’s the scariest thing you’ve ever said about someone else?\n",
      "Have you ever lied on your resume to get a crush or partner’s attention?\n",
      "What’s the most insane thing you’ve done in a movie theater?\n",
      "What’s the most embarrassing thing you’ve done on public transportation?\n",
      "What’s the most embarrassing time you got caught in a lie?\n",
      "Be honest: Do you have any hidden talents?\n",
      "What’s the most embarrassing thing you’ve ever done in a house of worship?\n",
      "What’s the most sinful thing you’ve done to get out of doing something?\n",
      "Be honest: Do you have a work spouse?\n",
      "What’s the dumbest thing you’ve ever done in a house of worship?\n",
      "What’s the most sinful thing you’ve done on public transportation?\n",
      "What’s the dumbest thing you’ve ever said about someone else?\n",
      "If I went through your cabinets, what’s the weirdest thing you’ve ever done at work?\n",
      "If you had to leave one person behind from this room, who would you do it with and why?\n",
      "When was your first heartbreak?\n",
      "Would you volunteer as tribute for anyone in this room When’s the last time you lurked an ex on social media?\n",
      "What’s something you would do?\n",
      "What’s one thing you’d change about every person in this room would be your one phone call if you were in jail?\n",
      "When’s the last time you got turned on?\n",
      "What’s something you would do?\n",
      "When was your first love?\n",
      "When was a time you were really angry?\n",
      "When was your first heartbreak?\n",
      "What’s the dumbest thing you’ve ever posted on social media?\n",
      "If you could set anyone here up with your partner for $ million?\n",
      "If I went through your cabinets, what’s the weirdest thing you’ve ever done on a date?\n",
      "Have you ever lied on your resume to get a crush or partner’s attention?\n",
      "What’s the meanest thing you’ve ever done in a bathroom?\n",
      "What’s the weirdest thing you’ve ever said about someone else?\n",
      "If you could set anyone here up with your partner for $ million?\n",
      "If I went through your cabinets, what’s the weirdest thing you do while driving?\n",
      "If so, read one of the other players has ever made?\n",
      "Have you ever done it in one day?\n",
      "What’s the best thing you wanted to become but now consider the worst thing you’ve ever posted on social media?\n",
      "When was a time you were really angry?\n",
      "If you were rescuing people from a burning building and you had to delete one app from your phone, which one would it be?\n",
      "What’s the weirdest thing you’ve done in a house of worship?\n",
      "What’s the cruelest thing you’ve ever posted on social media?\n",
      "Have you ever lied on your resume to get a crush or partner’s attention?\n",
      "If you were rescuing people from a burning building and you had to delete one app from your phone, which one would it be?\n",
      "When’s the last time you got turned on?\n",
      "What’s the weirdest thing you’ve done in front of a crowd?\n",
      "What’s a skill you wish you could change?\n",
      "If you had to leave one person behind from this room, who would you do with it?\n",
      "What was the most embarrassing thing you’ve ever said about someone else?\n",
      "What’s the most embarrassing time you got dumped?\n"
     ]
    }
   ],
   "source": [
    "#truth\n",
    "for i in range(100):\n",
    "    result = gen_tru.make_sentence(tries = 1000)\n",
    "    print(result)"
   ]
  },
  {
   "cell_type": "code",
   "execution_count": null,
   "id": "8aaaf252",
   "metadata": {},
   "outputs": [],
   "source": []
  }
 ],
 "metadata": {
  "kernelspec": {
   "display_name": "Python 3 (ipykernel)",
   "language": "python",
   "name": "python3"
  },
  "language_info": {
   "codemirror_mode": {
    "name": "ipython",
    "version": 3
   },
   "file_extension": ".py",
   "mimetype": "text/x-python",
   "name": "python",
   "nbconvert_exporter": "python",
   "pygments_lexer": "ipython3",
   "version": "3.9.7"
  }
 },
 "nbformat": 4,
 "nbformat_minor": 5
}
