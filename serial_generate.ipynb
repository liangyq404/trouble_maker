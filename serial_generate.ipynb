{
 "cells": [
  {
   "cell_type": "code",
   "execution_count": 44,
   "id": "f1f761ef",
   "metadata": {},
   "outputs": [
    {
     "name": "stdout",
     "output_type": "stream",
     "text": [
      "Requirement already satisfied: nltk in /opt/anaconda3/lib/python3.9/site-packages (3.6.5)\n",
      "Requirement already satisfied: click in /opt/anaconda3/lib/python3.9/site-packages (from nltk) (8.0.3)\n",
      "Requirement already satisfied: joblib in /opt/anaconda3/lib/python3.9/site-packages (from nltk) (1.1.0)\n",
      "Requirement already satisfied: regex>=2021.8.3 in /opt/anaconda3/lib/python3.9/site-packages (from nltk) (2021.8.3)\n",
      "Requirement already satisfied: tqdm in /opt/anaconda3/lib/python3.9/site-packages (from nltk) (4.62.3)\n",
      "Requirement already satisfied: spacy in /opt/anaconda3/lib/python3.9/site-packages (3.2.1)\n",
      "Requirement already satisfied: murmurhash<1.1.0,>=0.28.0 in /opt/anaconda3/lib/python3.9/site-packages (from spacy) (1.0.6)\n",
      "Requirement already satisfied: langcodes<4.0.0,>=3.2.0 in /opt/anaconda3/lib/python3.9/site-packages (from spacy) (3.3.0)\n",
      "Requirement already satisfied: wasabi<1.1.0,>=0.8.1 in /opt/anaconda3/lib/python3.9/site-packages (from spacy) (0.9.0)\n",
      "Requirement already satisfied: pydantic!=1.8,!=1.8.1,<1.9.0,>=1.7.4 in /opt/anaconda3/lib/python3.9/site-packages (from spacy) (1.8.2)\n",
      "Requirement already satisfied: preshed<3.1.0,>=3.0.2 in /opt/anaconda3/lib/python3.9/site-packages (from spacy) (3.0.6)\n",
      "Requirement already satisfied: jinja2 in /opt/anaconda3/lib/python3.9/site-packages (from spacy) (2.11.3)\n",
      "Requirement already satisfied: setuptools in /opt/anaconda3/lib/python3.9/site-packages (from spacy) (58.0.4)\n",
      "Requirement already satisfied: pathy>=0.3.5 in /opt/anaconda3/lib/python3.9/site-packages (from spacy) (0.6.1)\n",
      "Requirement already satisfied: srsly<3.0.0,>=2.4.1 in /opt/anaconda3/lib/python3.9/site-packages (from spacy) (2.4.2)\n",
      "Requirement already satisfied: blis<0.8.0,>=0.4.0 in /opt/anaconda3/lib/python3.9/site-packages (from spacy) (0.7.5)\n",
      "Requirement already satisfied: thinc<8.1.0,>=8.0.12 in /opt/anaconda3/lib/python3.9/site-packages (from spacy) (8.0.13)\n",
      "Requirement already satisfied: spacy-legacy<3.1.0,>=3.0.8 in /opt/anaconda3/lib/python3.9/site-packages (from spacy) (3.0.8)\n",
      "Requirement already satisfied: requests<3.0.0,>=2.13.0 in /opt/anaconda3/lib/python3.9/site-packages (from spacy) (2.26.0)\n",
      "Requirement already satisfied: tqdm<5.0.0,>=4.38.0 in /opt/anaconda3/lib/python3.9/site-packages (from spacy) (4.62.3)\n",
      "Requirement already satisfied: packaging>=20.0 in /opt/anaconda3/lib/python3.9/site-packages (from spacy) (21.0)\n",
      "Requirement already satisfied: catalogue<2.1.0,>=2.0.6 in /opt/anaconda3/lib/python3.9/site-packages (from spacy) (2.0.6)\n",
      "Requirement already satisfied: typer<0.5.0,>=0.3.0 in /opt/anaconda3/lib/python3.9/site-packages (from spacy) (0.4.0)\n",
      "Requirement already satisfied: cymem<2.1.0,>=2.0.2 in /opt/anaconda3/lib/python3.9/site-packages (from spacy) (2.0.6)\n",
      "Requirement already satisfied: numpy>=1.15.0 in /opt/anaconda3/lib/python3.9/site-packages (from spacy) (1.20.3)\n",
      "Requirement already satisfied: spacy-loggers<2.0.0,>=1.0.0 in /opt/anaconda3/lib/python3.9/site-packages (from spacy) (1.0.1)\n",
      "Requirement already satisfied: pyparsing>=2.0.2 in /opt/anaconda3/lib/python3.9/site-packages (from packaging>=20.0->spacy) (3.0.4)\n",
      "Requirement already satisfied: smart-open<6.0.0,>=5.0.0 in /opt/anaconda3/lib/python3.9/site-packages (from pathy>=0.3.5->spacy) (5.2.1)\n",
      "Requirement already satisfied: typing-extensions>=3.7.4.3 in /opt/anaconda3/lib/python3.9/site-packages (from pydantic!=1.8,!=1.8.1,<1.9.0,>=1.7.4->spacy) (3.10.0.2)\n",
      "Requirement already satisfied: certifi>=2017.4.17 in /opt/anaconda3/lib/python3.9/site-packages (from requests<3.0.0,>=2.13.0->spacy) (2021.10.8)\n",
      "Requirement already satisfied: idna<4,>=2.5 in /opt/anaconda3/lib/python3.9/site-packages (from requests<3.0.0,>=2.13.0->spacy) (3.2)\n",
      "Requirement already satisfied: urllib3<1.27,>=1.21.1 in /opt/anaconda3/lib/python3.9/site-packages (from requests<3.0.0,>=2.13.0->spacy) (1.26.7)\n",
      "Requirement already satisfied: charset-normalizer~=2.0.0 in /opt/anaconda3/lib/python3.9/site-packages (from requests<3.0.0,>=2.13.0->spacy) (2.0.4)\n",
      "Requirement already satisfied: click<9.0.0,>=7.1.1 in /opt/anaconda3/lib/python3.9/site-packages (from typer<0.5.0,>=0.3.0->spacy) (8.0.3)\n",
      "Requirement already satisfied: MarkupSafe>=0.23 in /opt/anaconda3/lib/python3.9/site-packages (from jinja2->spacy) (1.1.1)\n",
      "Requirement already satisfied: markovify in /opt/anaconda3/lib/python3.9/site-packages (0.9.3)\n",
      "Requirement already satisfied: unidecode in /opt/anaconda3/lib/python3.9/site-packages (from markovify) (1.2.0)\n",
      "\u001b[38;5;3m⚠ As of spaCy v3.0, shortcuts like 'en' are deprecated. Please use the\n",
      "full pipeline package name 'en_core_web_sm' instead.\u001b[0m\n",
      "Collecting en-core-web-sm==3.2.0\n",
      "  Downloading https://github.com/explosion/spacy-models/releases/download/en_core_web_sm-3.2.0/en_core_web_sm-3.2.0-py3-none-any.whl (13.9 MB)\n",
      "\u001b[K     |████████████████████████████████| 13.9 MB 8.1 MB/s eta 0:00:01\n",
      "\u001b[?25hRequirement already satisfied: spacy<3.3.0,>=3.2.0 in /opt/anaconda3/lib/python3.9/site-packages (from en-core-web-sm==3.2.0) (3.2.1)\n",
      "Requirement already satisfied: thinc<8.1.0,>=8.0.12 in /opt/anaconda3/lib/python3.9/site-packages (from spacy<3.3.0,>=3.2.0->en-core-web-sm==3.2.0) (8.0.13)\n",
      "Requirement already satisfied: pathy>=0.3.5 in /opt/anaconda3/lib/python3.9/site-packages (from spacy<3.3.0,>=3.2.0->en-core-web-sm==3.2.0) (0.6.1)\n",
      "Requirement already satisfied: blis<0.8.0,>=0.4.0 in /opt/anaconda3/lib/python3.9/site-packages (from spacy<3.3.0,>=3.2.0->en-core-web-sm==3.2.0) (0.7.5)\n",
      "Requirement already satisfied: packaging>=20.0 in /opt/anaconda3/lib/python3.9/site-packages (from spacy<3.3.0,>=3.2.0->en-core-web-sm==3.2.0) (21.0)\n",
      "Requirement already satisfied: cymem<2.1.0,>=2.0.2 in /opt/anaconda3/lib/python3.9/site-packages (from spacy<3.3.0,>=3.2.0->en-core-web-sm==3.2.0) (2.0.6)\n",
      "Requirement already satisfied: wasabi<1.1.0,>=0.8.1 in /opt/anaconda3/lib/python3.9/site-packages (from spacy<3.3.0,>=3.2.0->en-core-web-sm==3.2.0) (0.9.0)\n",
      "Requirement already satisfied: tqdm<5.0.0,>=4.38.0 in /opt/anaconda3/lib/python3.9/site-packages (from spacy<3.3.0,>=3.2.0->en-core-web-sm==3.2.0) (4.62.3)\n",
      "Requirement already satisfied: srsly<3.0.0,>=2.4.1 in /opt/anaconda3/lib/python3.9/site-packages (from spacy<3.3.0,>=3.2.0->en-core-web-sm==3.2.0) (2.4.2)\n",
      "Requirement already satisfied: murmurhash<1.1.0,>=0.28.0 in /opt/anaconda3/lib/python3.9/site-packages (from spacy<3.3.0,>=3.2.0->en-core-web-sm==3.2.0) (1.0.6)\n",
      "Requirement already satisfied: catalogue<2.1.0,>=2.0.6 in /opt/anaconda3/lib/python3.9/site-packages (from spacy<3.3.0,>=3.2.0->en-core-web-sm==3.2.0) (2.0.6)\n",
      "Requirement already satisfied: spacy-legacy<3.1.0,>=3.0.8 in /opt/anaconda3/lib/python3.9/site-packages (from spacy<3.3.0,>=3.2.0->en-core-web-sm==3.2.0) (3.0.8)\n",
      "Requirement already satisfied: numpy>=1.15.0 in /opt/anaconda3/lib/python3.9/site-packages (from spacy<3.3.0,>=3.2.0->en-core-web-sm==3.2.0) (1.20.3)\n",
      "Requirement already satisfied: typer<0.5.0,>=0.3.0 in /opt/anaconda3/lib/python3.9/site-packages (from spacy<3.3.0,>=3.2.0->en-core-web-sm==3.2.0) (0.4.0)\n",
      "Requirement already satisfied: spacy-loggers<2.0.0,>=1.0.0 in /opt/anaconda3/lib/python3.9/site-packages (from spacy<3.3.0,>=3.2.0->en-core-web-sm==3.2.0) (1.0.1)\n",
      "Requirement already satisfied: pydantic!=1.8,!=1.8.1,<1.9.0,>=1.7.4 in /opt/anaconda3/lib/python3.9/site-packages (from spacy<3.3.0,>=3.2.0->en-core-web-sm==3.2.0) (1.8.2)\n",
      "Requirement already satisfied: preshed<3.1.0,>=3.0.2 in /opt/anaconda3/lib/python3.9/site-packages (from spacy<3.3.0,>=3.2.0->en-core-web-sm==3.2.0) (3.0.6)\n",
      "Requirement already satisfied: requests<3.0.0,>=2.13.0 in /opt/anaconda3/lib/python3.9/site-packages (from spacy<3.3.0,>=3.2.0->en-core-web-sm==3.2.0) (2.26.0)\n",
      "Requirement already satisfied: jinja2 in /opt/anaconda3/lib/python3.9/site-packages (from spacy<3.3.0,>=3.2.0->en-core-web-sm==3.2.0) (2.11.3)\n",
      "Requirement already satisfied: setuptools in /opt/anaconda3/lib/python3.9/site-packages (from spacy<3.3.0,>=3.2.0->en-core-web-sm==3.2.0) (58.0.4)\n",
      "Requirement already satisfied: langcodes<4.0.0,>=3.2.0 in /opt/anaconda3/lib/python3.9/site-packages (from spacy<3.3.0,>=3.2.0->en-core-web-sm==3.2.0) (3.3.0)\n",
      "Requirement already satisfied: pyparsing>=2.0.2 in /opt/anaconda3/lib/python3.9/site-packages (from packaging>=20.0->spacy<3.3.0,>=3.2.0->en-core-web-sm==3.2.0) (3.0.4)\n",
      "Requirement already satisfied: smart-open<6.0.0,>=5.0.0 in /opt/anaconda3/lib/python3.9/site-packages (from pathy>=0.3.5->spacy<3.3.0,>=3.2.0->en-core-web-sm==3.2.0) (5.2.1)\n"
     ]
    },
    {
     "name": "stdout",
     "output_type": "stream",
     "text": [
      "Requirement already satisfied: typing-extensions>=3.7.4.3 in /opt/anaconda3/lib/python3.9/site-packages (from pydantic!=1.8,!=1.8.1,<1.9.0,>=1.7.4->spacy<3.3.0,>=3.2.0->en-core-web-sm==3.2.0) (3.10.0.2)\n",
      "Requirement already satisfied: urllib3<1.27,>=1.21.1 in /opt/anaconda3/lib/python3.9/site-packages (from requests<3.0.0,>=2.13.0->spacy<3.3.0,>=3.2.0->en-core-web-sm==3.2.0) (1.26.7)\n",
      "Requirement already satisfied: certifi>=2017.4.17 in /opt/anaconda3/lib/python3.9/site-packages (from requests<3.0.0,>=2.13.0->spacy<3.3.0,>=3.2.0->en-core-web-sm==3.2.0) (2021.10.8)\n",
      "Requirement already satisfied: charset-normalizer~=2.0.0 in /opt/anaconda3/lib/python3.9/site-packages (from requests<3.0.0,>=2.13.0->spacy<3.3.0,>=3.2.0->en-core-web-sm==3.2.0) (2.0.4)\n",
      "Requirement already satisfied: idna<4,>=2.5 in /opt/anaconda3/lib/python3.9/site-packages (from requests<3.0.0,>=2.13.0->spacy<3.3.0,>=3.2.0->en-core-web-sm==3.2.0) (3.2)\n",
      "Requirement already satisfied: click<9.0.0,>=7.1.1 in /opt/anaconda3/lib/python3.9/site-packages (from typer<0.5.0,>=0.3.0->spacy<3.3.0,>=3.2.0->en-core-web-sm==3.2.0) (8.0.3)\n",
      "Requirement already satisfied: MarkupSafe>=0.23 in /opt/anaconda3/lib/python3.9/site-packages (from jinja2->spacy<3.3.0,>=3.2.0->en-core-web-sm==3.2.0) (1.1.1)\n",
      "\u001b[38;5;2m✔ Download and installation successful\u001b[0m\n",
      "You can now load the package via spacy.load('en_core_web_sm')\n",
      "Requirement already satisfied: serial in /opt/anaconda3/lib/python3.9/site-packages (0.0.97)\n",
      "Requirement already satisfied: pyyaml>=3.13 in /opt/anaconda3/lib/python3.9/site-packages (from serial) (6.0)\n",
      "Requirement already satisfied: iso8601>=0.1.12 in /opt/anaconda3/lib/python3.9/site-packages (from serial) (1.0.2)\n",
      "Requirement already satisfied: future>=0.17.1 in /opt/anaconda3/lib/python3.9/site-packages (from serial) (0.18.2)\n",
      "Requirement already satisfied: numpy in /opt/anaconda3/lib/python3.9/site-packages (1.20.3)\n",
      "Requirement already satisfied: pyserial in /opt/anaconda3/lib/python3.9/site-packages (3.5)\n"
     ]
    }
   ],
   "source": [
    "# Install all the libraries \n",
    "# for text generation\n",
    "!pip install nltk\n",
    "!pip install spacy\n",
    "!pip install markovify\n",
    "!python -m spacy download en \n",
    "# for arduino serial communication\n",
    "!pip install serial\n",
    "!pip install numpy\n",
    "!pip install pyserial"
   ]
  },
  {
   "cell_type": "code",
   "execution_count": 45,
   "id": "7b1f0662",
   "metadata": {},
   "outputs": [],
   "source": [
    "#import al the libraries \n",
    "# for text generation\n",
    "import spacy\n",
    "import re\n",
    "import markovify\n",
    "import warnings\n",
    "warnings.filterwarnings('ignore')\n",
    "\n",
    "# for serial communication\n",
    "import serial;\n",
    "import numpy as np;\n",
    "import time;\n",
    "import sys;"
   ]
  },
  {
   "cell_type": "code",
   "execution_count": 46,
   "id": "9913b1db",
   "metadata": {},
   "outputs": [],
   "source": [
    "# load the input files\n",
    "file = open(\"dare.txt\",\"r\")\n",
    "dare = file.read()\n",
    "\n",
    "file = open(\"inst.txt\", \"r\")\n",
    "inst = file.read()\n",
    "\n",
    "file = open(\"drink.txt\", \"r\")\n",
    "drink = file.read()\n",
    "\n",
    "file = open(\"manner.txt\", \"r\")\n",
    "manner = file.read()\n",
    "\n",
    "file = open(\"mime.txt\", \"r\")\n",
    "mime = file.read()\n",
    "\n",
    "file = open(\"add.txt\", \"r\")\n",
    "add = file.read()\n",
    "\n",
    "file = open(\"truth.txt\", \"r\")\n",
    "truth = file.read()\n",
    "\n",
    "file = open(\"keep.txt\", \"r\")\n",
    "keep = file.read()\n",
    "\n",
    "#to test if the file is successfully loaded\n",
    "#print first hundred characters\n",
    "# print('\\nRaw:\\n', inst[:100])"
   ]
  },
  {
   "cell_type": "code",
   "execution_count": 47,
   "id": "d6ed673f",
   "metadata": {},
   "outputs": [],
   "source": [
    "#utility function for text cleaning\n",
    "# clean the dots and spaces\n",
    "def text_cleaner(text):\n",
    "  text = re.sub(r'--', ' ', text)\n",
    "  text = re.sub('[\\[]*[\\]]', '', text)\n",
    "  text = re.sub(r'(\\b|\\s+\\-?|^\\-?)(\\d+|\\d*\\.\\d+)\\b','', text)\n",
    "  text = re.sub('[()]', '', text)\n",
    "  text = re.sub(r'[!]', '', text)\n",
    "  text = ' '.join(text.split())\n",
    "#   text = re.sub('[.]', '', text)\n",
    "#   text = re.sub(r'Chapter \\d+', '', text)\n",
    "  return text"
   ]
  },
  {
   "cell_type": "code",
   "execution_count": 48,
   "id": "d320eb1b",
   "metadata": {},
   "outputs": [
    {
     "name": "stdout",
     "output_type": "stream",
     "text": [
      " What’s the last lie you told? What was the most embarrassing thing you’ve ever done on a date? Have you ever accidentally hit something or someone with your car? Name someone you’ve pretended to like but actually couldn’t stand What’s your most bizarre nickname? What’s been your most physically painful experience? What bridges are you glad that you burned? What’s the craziest thing you’ve done on public transportation? If you met a genie, what would your three wishes be? If you could write anyone on Earth in for President of the United States, who would it be and why? What’s the meanest thing you’ve ever said to someone else? Who was your worst kiss ever? What’s one thing you’d do if you knew there no consequences? What’s the craziest thing you’ve done in front of a mirror? What’s the meanest thing you’ve ever said about someone else? What’s something you love to do with your friends that you’d never do in front of your partner? Who are you most jealous of? What do your favorite pajamas look like? Have you ever faked sick to get out of a party? Who’s the oldest person you’ve dated? How many selfies do you take a day? Meatloaf says he’d do anything for love, but he won’t do “that” What’s your “that?” How many times a week do you wear the same pants? Would you date your high school crush today? Where are you ticklish? Do you believe in any superstitions? If so, which ones? What’s one movie you’re embarrassed to admit you enjoy? What’s your most embarrassing grooming habit? When’s the last time you apologized? What for? How do you really feel about the Twilight saga? Where do most of your embarrassing odors come from? Have you ever considered cheating on a partner? Have you ever cheated on a partner? Boxers or briefs? Have you ever peed in a pool? What’s the weirdest place you’ve ever grown hair? If you were guaranteed to never get caught, who on Earth would you murder? What’s the cheapest gift you’ve ever gotten for someone else? What app do you waste the most time on? What’s the weirdest thing you’ve done on a plane? Have you ever been nude in public? How many gossip blogs do you read a day? What is the youngest age partner you’d date? Have you ever picked your nose in public? Have you ever lied about your age? If you had to delete one app from your phone, which one would it be? What’s your most embarrassing late night purchase? What’s the longest you’ve gone without showering? Have you ever used a fake ID? Who’s your hall pass? Be honest: Do you have a favorite child? Which of your family members annoys you the most and why? What is your greatest fear in a relationship? What’s your biggest pet peeve about the person to your left? What’s the most embarrassing text in your phone right now? Have you ever seen a dead body? What celebrity do you think is overrated? Have you ever lied to your boss? Have you ever stolen something from work? What’s the longest you’ve gone without brushing your teeth? What’s your biggest regret in life? Who would you hate to see naked? Describe the weirdest thing you’ve ever done while inebriated Have you ever regifted a present? Would you break up with your partner for $ million? Have you ever had a crush on a coworker? Do you still have feelings for any of your exes? What’s the smallest tip you’ve ever left at a restaurant? Have you ever regretted something you did to get a crush or partner’s attention? What’s one job you could never do? Have you ever ghosted a friend? Have you ever ghosted a partner? What’s the most scandalous photo in your cloud? If you switched genders for a day, what would you do? How many photo editing apps do you have on your phone? How many pairs of granny panties do you own? What are your favorite and least favorite of your body parts? When’s the last time you got dumped? What’s the most childish thing you still do? When’s the last time you dumped someone? If you had to pick someone in this room to be your partner on a game show, who would it be and why? Would you date someone shorter than you? Have you ever lied for a friend? Name one thing you’d change about every person in this room When’s the last time you made someone else cry? What’s the most embarrassing thing you’ve done in front of a crowd? If you could become invisible, what’s the worst thing you’d do? After you’ve dropped a piece of food, what’s the longest time you’ve left it on the floor before eating it? What’s one thing in your life you wish you could change? If you could date two people at once, would you do it? If so, who? What’s something that overwhelms you? What was the greatest day of your life? What’s one useless skill you’d love to learn anyway? If I went through your cabinets, what’s the weirdest thing I’d find? Have you ever farted and blamed it on someone else? What’s the worst thing you’ve ever done at work? How many people have you kissed? What’s your number? Have you ever gotten mad at a friend for posting an unflattering picture of you? What’s your most absurd dealbreaker? Who in this room would you list as your emergency contact? What’s something you would die if your mom found out about? What’s the scariest thing that’s ever happened to you? If you could set anyone here up with your best friend, who would it be and why? How often do you wash your sheets? Have you ever farted in an elevator? Who was your first love? What’s the last purchase you regretted? Have you ever sent a sext? Have you ever sent a sext to the wrong person? Who? What’s the weirdest dream you’ve ever had? Have you ever had a one-night stand? Are you scared of getting old? What do you want on your tombstone? If you had one week to live and you had to marry someone in this room, who would it be? What’s the last movie that made you cry? List one positive and one negative thing about everyone in the room When was your first time? Who was your first? What’s the most sinful thing you’ve done in a house of worship? Who would you call to help bury a body? Who would call you to help bury a body? Would you do it? When’s the last time you cried and why? What’s your favorite possession? Has anyone ever walked in on you in the bathroom? Who in this group would you want to swap lives with for a week? What was your biggest fear as a child? What’s your biggest fear today? What’s the most embarrassing thing your parents have caught you doing? Name a band you only pretend to like What’s the last song that made you cry? Have you ever had a wardrobe malfunction? What’s the last thing you Googled? What is that one thing you would never do for all the money in the world? Who is your favorite person in your immediate family? If you could only hear one song for the rest of your life, what would it be? When’s the last time your partner embarrassed you? What’s the last YouTube video you watched? What’s the hardest drug you’ve ever tried? When’s the last time you peed your pants? Who in this room would be your one phone call if you were in jail? Who do you most often text on the toilet? What’s the craziest thing you’ve ever done in a movie theater? What’s the craziest thing that has happened to you in a mall? How long was your longest relationship? What’s your biggest insecurity? Have you ever been arrested? Who’s the most surprising person to ever slide into your DMs? Where’s one place you’re dying to visit? What word do you hate the most? What’s the most embarrassing thing you’ve ever posted on social media? Have you ever kept a library book? For how long? If you could hire someone to do one thing for you, what would it be? Would you ever consider being a nudist? Have you ever lied on your resume? What’s the best lie you’ve ever told anyone? Who’s the last person you lurked on social media? What’s your most embarrassing childhood memory? Have you ever pretended to not get a text to get out of doing something? What’s the weirdest thing you’ve ever done in a bathroom? What’s the most insane thing you’ve done to get out of a speeding ticket? Do you have any hidden talents? What are they? When’s the last time you got caught in a lie? How do you really feel about your mother-in-law? What do you think happens when you die? When’s the last time you watched an adult movie? Have you ever been in a fight? Would you marry someone rich even if you weren’t in love with them? Have you ever been caught checking someone out? What’s the worst advice you’ve ever given someone else? What’s the worst advice someone else has ever given you? Would you volunteer as tribute for anyone in this room in The Hunger Games? Is there an ex with whom you’d consider reconciling? What’s the weirdest thing you do while driving? Who’s the last person who called you? When’s the last time you wanted to hit somebody? What’s the grossest smell that you secretly enjoy? What’s the biggest prank you’ve ever played on someone? What’s one thing about your partner that you find least attractive? When was the last time you were really angry? Why? What’s your least favorite memory from college? What’s the grossest thing that you do alone? Have you ever intentionally sabotaged a coworker? What’s your favorite guilty pleasure song? Would you ever get plastic surgery? Have you ever had a near-death experience? What’s a skill you wish you had? Have you ever compromised your morals for money? How? Who was the last person you said, “I love you” to? What was your first heartbreak? Have you ever broken someone’s heart? Have you ever peed in the shower? What’s the most bogus rumor you’ve ever heard about yourself? What’s the most bogus rumor you’ve ever spread or heard about someone else? When and where was your first kiss? Who was it with? Do you think cheating can ever be justified? How? Have you ever thrown up in public? When’s the last time you got rejected? What’s the most common misconception about you? Have you ever seriously injured another person? When did you stop believing in Santa Claus? What’s one responsibility you wish you didn’t have? Who is the best kisser you’ve ever had? What’s the scariest thing you’ve ever done? Have you ever had a paranormal experience? Have you ever gotten blackout drunk? Do you believe in aliens? What’s the pettiest thing you’ve ever done? What’s something you’ve done that you still feel guilty about? Have you ever gone skinny dipping? What is the worst date you’ve ever been on? Do you secretly dislike any of your friends’ kids? What’s the weirdest thing you’ve ever collected? What’s the weirdest thing you’ve ever said to a stranger? Who in this room do you trust the least? What’s the most inappropriate time you’ve ever laughed? What’s your best pickup line? What’s your sleaziest pickup line? What’s the weirdest place you’ve ever given or gotten someone’s number? What’s the dumbest thing you’ve ever lied about? Parade Daily Celebrity interviews, recipes and health tips delivered to your inbox Have you ever said, “I love you” and not really meant it? To whom? What’s your least favorite memory from high school? What’s the worst present someone has ever given you? When’s the last time you shared a toothbrush with someone else? Have you ever had a crush on a boss or teacher? What’s the worst present you’ve ever given someone else? What’s the weirdest thought you’ve had sitting on a toilet? What song do you sing most in the shower? Do you have a work spouse? What’s the cruelest thing you’ve ever done or said to a romantic partner? Who’s the person you most regret hooking up with? What’s something you’re embarrassed that you’re good at? What was your most humbling moment? Who would you bring with you on a deserted island? What’s the worst decision one of the other players has ever made? Have you ever been fired from a job? Have you ever let someone take the blame for something you did? What’s the most ridiculous thing you have an emotional attachment to? Have you ever pooped your pants as an adult? What’s something you’ve done that you’d judge someone else for doing? What’s something weird you do in your sleep? How long have you had your oldest pair of underwear? Who’s your hero? What’s something you know you need to do but aren’t looking forward to at all? What’s the biggest secret you’ve kept from your parents? What’s the most offensive joke you’ve found funny? What are you most proud of in your life? When’s the last time you lurked an ex on social media? Would you ever get a prenup? If you were rescuing people from a burning building and you had to leave one person behind from this room, who would it be? Have you ever eaten food from the floor? Have you ever eaten or been tempted to eat your dog’s treats? Have you ever farted in an elevator? Have you ever had a wardrobe malfunction? Have you ever peed in a pool? Have you ever picked your nose and eaten it? Have you ever promised to quit beer/smoking/cake/chocolate etc, but then broke the promise within an hour of making it? Have you ever used an inappropriate word in front of your parents? How many days have you ever gone without taking a shower? If you could suddenly become invisible, what more naughty things would you like to do? What is one thing that gets you hot and bothered every time? What is that one thing you would never do even if someone offered you all of the money in the world? What is the most stupid thing you’ve done in front of a crowd? What is the worst rumor or gossip you repeated which ended up costing you big time? What was the most disgusting joke ever played with someone? What’s something stupid you’ve done that you’re most proud of? What’s the best thing you wanted to become but now consider the worst thing ever? What’s the most embarrassing thing that turns you on? Which celebrity do you think is overrated and why? Who here are you most jealous of? What is your biggest regret? What are you most self-conscious about? What is the biggest lie you have ever told? What is your worst habit? What is the strangest thing you have ever bought? Have you ever lied on your resume to get a job? What is your guilty pleasure? What is your favorite thing to do with your leisure time? What is your biggest pet peeve? If you could choose a different career, what would it be and why? If you could live anywhere in the world, where would it be? If you were given a million dollars, what would you do with it? What makes you the happiest? If you were invisible what is something you would do? Is there any movie that always makes you cry? Are second rounds exciting or exhausting? Do you fake orgasm while looking sideways or looking the person straight in the face? Do you have an “I’m getting laid tonight” outfit? What it is? Do you have any spicy pictures or videos saved on your phone? Have you ever been attracted to the same sex? Have you ever cheated/wanted to cheat? Have you ever done it in a car? Have you ever sexted anyone? If so, read one of the sexts in a fake British accent How many people have you slept with? How often do you watch something naughty? If you got to have a threesome with people in this room, who would you do it with and why? If you were into the same sex, which celebrity would you go for? It’s totally illegal to seduce my teachers but if it were,… What is the most sexually adventurous thing you’d want someone to do to you? What is the most you’ve done for sex in the past? What is the song that you get it on to the most? What panties are you wearing? What was the most embarrassing time you got turned on? What would be more thrilling: angry sex or make-up sex? What’s the most number of times you’ve done it in one day? What’s your favorite body part on a girl? What’s your favorite fantasy to pleasure yourself to? When did you lose your virginity? When was a time you were so turned on you couldn’t stand it? When was the first time you came? When was your first kiss? When was your sexual awakening? Where are you on the straight/queer spectrum? Who do you most want to sleep with, out of everyone here? Who was your best partner and why?\n"
     ]
    }
   ],
   "source": [
    "#apply utility function to clean corpus \n",
    "dares = text_cleaner(dare)\n",
    "inst = text_cleaner(inst)\n",
    "manner = text_cleaner(manner)\n",
    "mime = text_cleaner(mime)\n",
    "add = text_cleaner(add)\n",
    "keep = text_cleaner(keep)\n",
    "drink = text_cleaner(drink)\n",
    "\n",
    "truth = text_cleaner(truth)\n",
    "truth = re.sub(r'[0-9]+', '', truth)\n",
    "truth = re.sub('[.]', '', truth)\n",
    "print(truth)"
   ]
  },
  {
   "cell_type": "code",
   "execution_count": 50,
   "id": "e5ccf33a",
   "metadata": {},
   "outputs": [
    {
     "name": "stdout",
     "output_type": "stream",
     "text": [
      "Add hot sauce. Add tap water. Add salt. Add pepper. Add Garlic Powder. Add Rosemary. Add cucumber. Add a dollar coin. Add hot sauce. Add tap water. Add salt. Add pepper. Add Garlic Powder. Add Rosemary. Add cucumber. Add a dollar coin. Add hot sauce. Add tap water. Add salt. Add pepper. Add Garlic Powder. Add Rosemary. Add cucumber. Add a dollar coin. Add hot sauce. Add tap water. Add salt. Add pepper. Add Garlic Powder. Add Rosemary. Add cucumber. Add a dollar coin. Add hot sauce. Add tap water. Add salt. Add pepper. Add Garlic Powder. Add Rosemary. Add cucumber. Add a dollar coin. Add hot sauce. Add tap water. Add salt. Add pepper. Add Garlic Powder. Add Rosemary. Add cucumber. Add a dollar coin. Add hot sauce. Add tap water. Add salt. Add pepper. Add Garlic Powder. Add Rosemary. Add cucumber. Add a dollar coin. Add hot sauce. Add tap water. Add salt. Add pepper. Add Garlic Powder. Add Rosemary. Add cucumber. Add a dollar coin. Add hot sauce. Add tap water. Add salt. Add pepper. Add Garlic Powder. Add Rosemary. Add cucumber. Add a dollar coin. Add hot sauce. Add tap water. Add salt. Add pepper. Add Garlic Powder. Add Rosemary. Add cucumber. Add a dollar coin. Add hot sauce. Add tap water. Add salt. Add pepper. Add Garlic Powder. Add Rosemary. Add cucumber. Add a dollar coin. Add hot sauce. Add tap water. Add salt. Add pepper. Add Garlic Powder. Add Rosemary. Add cucumber. Add a dollar coin. Add hot sauce. Add tap water. Add salt. Add pepper. Add Garlic Powder. Add Rosemary. Add cucumber. Add a dollar coin. Add hot sauce. Add tap water. Add salt. Add pepper. Add Garlic Powder. Add Rosemary. Add cucumber. Add a dollar coin. Add hot sauce. Add tap water. Add salt. Add pepper. Add Garlic Powder. Add Rosemary. Add cucumber. Add a dollar coin. Add hot sauce. Add tap water. Add salt. Add pepper. Add Garlic Powder. Add Rosemary. Add cucumber. Add a dollar coin. Add hot sauce. Add tap water. Add salt. Add pepper. Add Garlic Powder. Add Rosemary. Add cucumber. Add a dollar coin. Add hot sauce. Add tap water. Add salt. Add pepper. Add Garlic Powder. Add Rosemary. Add cucumber. Add a dollar coin. Add hot sauce. Add tap water. Add salt. Add pepper. Add Garlic Powder. Add Rosemary. Add cucumber. Add a dollar coin. Add hot sauce. Add tap water. Add salt. Add pepper. Add Garlic Powder. Add Rosemary. Add cucumber. Add a dollar coin. Add hot sauce. Add tap water. Add salt. Add pepper. Add Garlic Powder. Add Rosemary. Add cucumber. Add a dollar coin. Add hot sauce. Add tap water. Add salt. Add pepper. Add Garlic Powder. Add Rosemary. Add cucumber. Add a dollar coin. Add hot sauce. Add tap water. Add salt. Add pepper. Add Garlic Powder. Add Rosemary. Add cucumber. Add a dollar coin. Add hot sauce. Add tap water. Add salt. Add pepper. Add Garlic Powder. Add Rosemary. Add cucumber. Add a dollar coin. Add hot sauce. Add tap water. Add salt. Add pepper. Add Garlic Powder. Add Rosemary. Add cucumber. Add a dollar coin. Add hot sauce. Add tap water. Add salt. Add pepper. Add Garlic Powder. Add Rosemary. Add cucumber. Add a dollar coin. Add hot sauce. Add tap water. Add salt. Add pepper. Add Garlic Powder. Add Rosemary. Add cucumber. Add a dollar coin. Add hot sauce. Add tap water. Add salt. Add pepper. Add Garlic Powder. Add Rosemary. Add cucumber. Add a dollar coin. Add hot sauce. Add tap water. Add salt. Add pepper. Add Garlic Powder. Add Rosemary. Add cucumber. Add a dollar coin. Add hot sauce. Add tap water. Add salt. Add pepper. Add Garlic Powder. Add Rosemary. Add cucumber. Add a dollar coin. Add hot sauce. Add tap water. Add salt. Add pepper. Add Garlic Powder. Add Rosemary. Add cucumber. Add a dollar coin. Add hot sauce. Add tap water. Add salt. Add pepper. Add Garlic Powder. Add Rosemary. Add cucumber. Add a dollar coin. Add hot sauce. Add tap water. Add salt. Add pepper. Add Garlic Powder. Add Rosemary. Add cucumber. Add a dollar coin. Add hot sauce. Add tap water. Add salt. Add pepper. Add Garlic Powder. Add Rosemary. Add cucumber. Add a dollar coin. Add hot sauce. Add tap water. Add salt. Add pepper. Add Garlic Powder. Add Rosemary. Add cucumber. Add a dollar coin. Add hot sauce. Add tap water. Add salt. Add pepper. Add Garlic Powder. Add Rosemary. Add cucumber. Add a dollar coin. Add hot sauce. Add tap water. Add salt. Add pepper. Add Garlic Powder. Add Rosemary. Add cucumber. Add a dollar coin. Add hot sauce. Add tap water. Add salt. Add pepper. Add Garlic Powder. Add Rosemary. Add cucumber. Add a dollar coin. Add hot sauce. Add tap water. Add salt. Add pepper. Add Garlic Powder. Add Rosemary. Add cucumber. Add a dollar coin. Add hot sauce. Add tap water. Add salt. Add pepper. Add Garlic Powder. Add Rosemary. Add cucumber. Add a dollar coin.\n"
     ]
    }
   ],
   "source": [
    "#parse\n",
    "nlp = spacy.load('en_core_web_sm')\n",
    "\n",
    "dares_doc = nlp(dares)\n",
    "inst_doc = nlp(inst)\n",
    "add_doc = nlp(add)\n",
    "manner_doc = nlp(manner)\n",
    "drink_doc = nlp(drink)\n",
    "mime_doc = nlp(mime)\n",
    "truth_doc = nlp(truth)\n",
    "keep_doc = nlp(keep)\n",
    "\n",
    "print (add_doc)"
   ]
  },
  {
   "cell_type": "code",
   "execution_count": 51,
   "id": "d8812efe",
   "metadata": {},
   "outputs": [
    {
     "name": "stdout",
     "output_type": "stream",
     "text": [
      "Muddle mint leaves with sugar and lime juice. Add a splash of soda water and fill the glass with cra\n"
     ]
    }
   ],
   "source": [
    "#join the sentences in the novel \n",
    "dares_sents = ' '.join([sent.text for sent in dares_doc.sents if len(sent.text) > 1])\n",
    "drink_sents = ' '.join([sent.text for sent in drink_doc.sents if len(sent.text) > 1]).strip('\\r\\n')\n",
    "inst_sents = ' '.join([sent.text for sent in inst_doc.sents if len(sent.text) > 1])\n",
    "manner_sents = ' '.join([sent.text for sent in manner_doc.sents if len(sent.text) > 1])\n",
    "mime_sents = ' '.join([sent.text for sent in mime_doc.sents if len(sent.text) > 1])\n",
    "tru_sents = ' '.join([sent.text for sent in truth_doc.sents if len(sent.text) > 1])\n",
    "add_sents = ' '.join([sent.text for sent in add_doc.sents if len(sent.text) > 1])\n",
    "keep_sents = ' '.join([sent.text for sent in keep_doc.sents if len(sent.text) > 1])\n",
    "\n",
    "print(drink_sents[:100])"
   ]
  },
  {
   "cell_type": "code",
   "execution_count": 52,
   "id": "d2dea06f",
   "metadata": {},
   "outputs": [
    {
     "name": "stdout",
     "output_type": "stream",
     "text": [
      "What’s your biggest pet peeve?\n"
     ]
    }
   ],
   "source": [
    "gen_tru = markovify.Text(tru_sents, state_size = 3) \n",
    "result = gen_tru.make_sentence(tries = 1000)\n",
    "print(result)"
   ]
  },
  {
   "cell_type": "code",
   "execution_count": 57,
   "id": "974ac894",
   "metadata": {},
   "outputs": [
    {
     "name": "stdout",
     "output_type": "stream",
     "text": [
      "Connected to Arduino...\n"
     ]
    }
   ],
   "source": [
    "# connect to arduino\n",
    "arduino = serial.Serial(port='/dev/cu.usbmodem14401', baudrate=9600, timeout = 1, writeTimeout=5)\n",
    "time.sleep(2)\n",
    "print(\"Connected to Arduino...\")"
   ]
  },
  {
   "cell_type": "code",
   "execution_count": 58,
   "id": "6883916f",
   "metadata": {},
   "outputs": [],
   "source": [
    "gen_dares = markovify.Text(dares_sents, state_size = 3) \n",
    "gen_drink = markovify.Text(drink_sents, state_size = 3) \n",
    "gen_add = markovify.Text(add_sents, state_size = 3) \n",
    "gen_inst = markovify.Text(inst_sents, state_size = 3)\n",
    "gen_mime = markovify.Text(mime_sents, state_size = 3) \n",
    "gen_manner = markovify.Text(manner_sents, state_size = 3) \n",
    "gen_keep = markovify.Text(keep_sents, state_size = 3) \n",
    "gen_tru = markovify.Text(tru_sents, state_size = 3) \n",
    "\n",
    "gen_darkdrinks = markovify.combine([gen_drink, gen_add], [1, 1 ])\n",
    "gen_anti = markovify.combine([gen_keep, gen_manner], [1, 1 ])\n",
    "gen_mimechallenge = markovify.combine([gen_anti, gen_mime], [1, 0.5])\n",
    "    \n",
    "\n",
    "#     # new dares\n",
    "#     if data == 3: \n",
    "#         result = gen_dares.make_sentence(tries = 1000)\n",
    "#         print(result)\n",
    "#         arduino.write(result.encode())    \n",
    "        \n",
    "#     # dark drinks\n",
    "#     if data == 4:\n",
    "#         for i in range(3):\n",
    "#             result = gen_darkdrinks.make_sentence(tries = 1000, max_chars=200)\n",
    "#             print(result)\n",
    "#             arduino.write(result.encode())    \n",
    "            \n",
    "\n",
    "#     # mime challenge\n",
    "#     if data == 5: \n",
    "#         result = gen_mimechallenge.make_sentence(tries = 1000)\n",
    "#         print(result)\n",
    "#         arduino.write(result.encode())  \n",
    "            \n",
    "#     # anti workout\n",
    "#     if data == 1: \n",
    "#         for i in range(3):\n",
    "#             result = gen_anti.make_sentence(tries = 1000, max_chars=200)\n",
    "#             print(result)\n",
    "#             arduino.write(result.encode())  \n",
    "\n",
    "            \n",
    "#     # truth  \n",
    "#     if data == 2: \n",
    "#         result = gen_tru.make_sentence(tries = 1000)\n",
    "#         print(result)\n",
    "#         arduino.write(result.encode()) \n",
    "\n",
    "\n",
    "    "
   ]
  },
  {
   "cell_type": "code",
   "execution_count": null,
   "id": "4da1fee8",
   "metadata": {},
   "outputs": [
    {
     "name": "stdout",
     "output_type": "stream",
     "text": [
      "3\n",
      "Wear it on your head for the rest of the group try to shoot trash through your hoop.\n",
      "3\n",
      "Wear it on your head.\n",
      "3\n",
      "Let two people give you a new hairstyle.\n",
      "4\n",
      "Simmer for minutes, then remove from the heat and let sit in the fridge for- hours.\n",
      "Add ice and shake vigorously before pouring into a balloon glass then add the grenadine untill you see the coin.\n",
      "Shake together in a blender.\n",
      "5\n",
      "Split your stance with your right arm and left leg.\n",
      "In a coordinated motion, extend your left arm and right leg, keeping your right leg up, maintaining the position of your hands by reaching your left arm and right leg, keeping your hips square to the ground.\n",
      "Open the door of the car and shut the door.\n"
     ]
    }
   ],
   "source": [
    "while True:  \n",
    "    \n",
    "    #skip empty signals\n",
    "    while (arduino.inWaiting()==0):\n",
    "        pass\n",
    "\n",
    "    data = arduino.readline()\n",
    "    # convert bytes to string\n",
    "    data = str(data, 'utf-8')\n",
    "    data = data.strip('\\r\\n')\n",
    "    # convert string to int\n",
    "    data = int(data)    \n",
    "    print(data)\n",
    "    \n",
    "    printlist = []\n",
    "\n",
    "    \n",
    "    #darkdrinks\n",
    "    if data == 4:\n",
    "        \n",
    "        # if the first generated sentence starts with these words, generate again\n",
    "        wronglist = [\"Then\", \"After\", \"And\", \"When\", \"Cover\", \"Remove\", \"Return\", \"Shake\", \"Serve\", \"Gradually\", \"Before\", \"Turn\", \"Increase\", \"The\"]\n",
    "\n",
    "        # generate the first sentence, if this sentence starts with wronglist or contain not first, generate again\n",
    "        while True: \n",
    "            resulta = gen_darkdrinks.make_sentence(tries = 1000, max_chars=100)\n",
    "            resulta = resulta.split()\n",
    "            if resulta[0] in wronglist:\n",
    "                continue\n",
    "            else:\n",
    "                resulta = \" \".join(resulta)\n",
    "            printlist.append(resulta)\n",
    "            break\n",
    "\n",
    "\n",
    "        # generate the rest 2 sentences\n",
    "        for i in range(2):\n",
    "            resultb = gen_darkdrinks.make_sentence(tries = 1000, max_chars=200)\n",
    "            printlist.append(resultb)\n",
    "\n",
    "\n",
    "        for i in range(3):\n",
    "            print(printlist[i])\n",
    "            arduino.write(printlist[i].encode())\n",
    "\n",
    "\n",
    "            \n",
    "    \n",
    "    # mime challenge\n",
    "    if data == 5: \n",
    "        for i in range(3):\n",
    "            result = gen_mimechallenge.make_sentence(tries = 1000, max_chars=200)\n",
    "            printlist.append(result)\n",
    "#         print(printlist)\n",
    "            \n",
    "        for i in range(3):\n",
    "            print(printlist[i])\n",
    "            arduino.write(printlist[i].encode())  \n",
    "\n",
    "\n",
    "            \n",
    "\n",
    "            \n",
    "    # anti workout\n",
    "    if data == 1: \n",
    "        for i in range(3):\n",
    "            result = gen_anti.make_sentence(tries = 1000, max_chars=200)\n",
    "            print(result)\n",
    "            arduino.write(result.encode())  \n",
    "\n",
    "            \n",
    "    # truth  \n",
    "    if data == 2: \n",
    "        result = gen_tru.make_sentence(tries = 1000)\n",
    "        print(result)\n",
    "        arduino.write(result.encode()) \n",
    "        \n",
    "    \n",
    "    # new dares\n",
    "    if data == 3: \n",
    "\n",
    "        result = gen_dares.make_sentence(tries = 1000)\n",
    "        print(result)\n",
    "        arduino.write(result.encode())    \n",
    "\n",
    "\n"
   ]
  },
  {
   "cell_type": "code",
   "execution_count": null,
   "id": "6a10d4c7",
   "metadata": {},
   "outputs": [],
   "source": []
  },
  {
   "cell_type": "code",
   "execution_count": null,
   "id": "376330c5",
   "metadata": {},
   "outputs": [],
   "source": []
  }
 ],
 "metadata": {
  "kernelspec": {
   "display_name": "Python 3 (ipykernel)",
   "language": "python",
   "name": "python3"
  },
  "language_info": {
   "codemirror_mode": {
    "name": "ipython",
    "version": 3
   },
   "file_extension": ".py",
   "mimetype": "text/x-python",
   "name": "python",
   "nbconvert_exporter": "python",
   "pygments_lexer": "ipython3",
   "version": "3.9.7"
  }
 },
 "nbformat": 4,
 "nbformat_minor": 5
}
